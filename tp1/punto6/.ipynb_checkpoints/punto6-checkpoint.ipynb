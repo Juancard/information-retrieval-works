{
 "cells": [
  {
   "cell_type": "code",
   "execution_count": 11,
   "metadata": {
    "collapsed": true
   },
   "outputs": [],
   "source": [
    "# -*- coding: utf-8 -*-\n",
    "import sys\n",
    "import os\n",
    "import unicodedata\n",
    "import string\n",
    "import urllib2\n",
    "\n",
    "import numpy as np\n",
    "import pandas as pd\n",
    "\n",
    "# Agrego al path la carpeta modulos\n",
    "sys.path.insert(0, os.path.abspath(\"../modulos\"))\n",
    "import lex_analyser"
   ]
  },
  {
   "cell_type": "code",
   "execution_count": 12,
   "metadata": {
    "collapsed": false
   },
   "outputs": [
    {
     "name": "stdout",
     "output_type": "stream",
     "text": [
      "2178990\n"
     ]
    }
   ],
   "source": [
    "url = 'http://www.gutenberg.org/cache/epub/2000/pg2000.txt'\n",
    "response = urllib2.urlopen(url)\n",
    "raw = response.read()\n",
    "start = raw.find('El ingenioso hidalgo don Quijote de la Mancha')\n",
    "end = raw.rfind('End of Project Gutenberg')\n",
    "raw = raw[start:end]\n",
    "print len(raw)"
   ]
  },
  {
   "cell_type": "code",
   "execution_count": 13,
   "metadata": {
    "collapsed": false
   },
   "outputs": [
    {
     "name": "stdout",
     "output_type": "stream",
     "text": [
      "[{'consuelome': 1}, {'canes': 3}, {'igual': 16}, {'indignacion': 2}, {'hermana': 11}, {'hermano': 106}, {'gastara': 1}, {'acababamos': 1}, {'dictado': 1}, {'compuesta': 11}]\n"
     ]
    }
   ],
   "source": [
    "vocabulario = {}\n",
    "listaTokens = lex_analyser.tokenizar(raw)\n",
    "for termino in listaTokens:\n",
    "    if termino not in vocabulario:\n",
    "        vocabulario[termino] = 1\n",
    "    else:\n",
    "        vocabulario[termino] += 1\n",
    "print [{key: val} for key, val in vocabulario.items()[:10]]"
   ]
  },
  {
   "cell_type": "code",
   "execution_count": 14,
   "metadata": {
    "collapsed": false
   },
   "outputs": [
    {
     "data": {
      "text/html": [
       "<div>\n",
       "<table border=\"1\" class=\"dataframe\">\n",
       "  <thead>\n",
       "    <tr style=\"text-align: right;\">\n",
       "      <th></th>\n",
       "      <th>Frecuencia</th>\n",
       "      <th>Ranking</th>\n",
       "      <th>C=F*R</th>\n",
       "    </tr>\n",
       "  </thead>\n",
       "  <tbody>\n",
       "    <tr>\n",
       "      <th>que</th>\n",
       "      <td>21475.0</td>\n",
       "      <td>1.0</td>\n",
       "      <td>21475.0</td>\n",
       "    </tr>\n",
       "    <tr>\n",
       "      <th>de</th>\n",
       "      <td>18298.0</td>\n",
       "      <td>2.0</td>\n",
       "      <td>36596.0</td>\n",
       "    </tr>\n",
       "    <tr>\n",
       "      <th>y</th>\n",
       "      <td>18188.0</td>\n",
       "      <td>3.0</td>\n",
       "      <td>54564.0</td>\n",
       "    </tr>\n",
       "    <tr>\n",
       "      <th>la</th>\n",
       "      <td>10363.0</td>\n",
       "      <td>4.0</td>\n",
       "      <td>41452.0</td>\n",
       "    </tr>\n",
       "    <tr>\n",
       "      <th>a</th>\n",
       "      <td>9823.0</td>\n",
       "      <td>5.0</td>\n",
       "      <td>49115.0</td>\n",
       "    </tr>\n",
       "  </tbody>\n",
       "</table>\n",
       "</div>"
      ],
      "text/plain": [
       "     Frecuencia  Ranking    C=F*R\n",
       "que     21475.0      1.0  21475.0\n",
       "de      18298.0      2.0  36596.0\n",
       "y       18188.0      3.0  54564.0\n",
       "la      10363.0      4.0  41452.0\n",
       "a        9823.0      5.0  49115.0"
      ]
     },
     "execution_count": 14,
     "metadata": {},
     "output_type": "execute_result"
    }
   ],
   "source": [
    "df = pd.DataFrame(index = vocabulario.keys(),\n",
    "                  columns = ['Frecuencia','Ranking','C=F*R'],\n",
    "                  dtype = 'float64')\n",
    "\n",
    "for a in df.index:\n",
    "    df.loc[a,'Frecuencia'] = vocabulario[a]\n",
    "\n",
    "df['Ranking'] = df['Frecuencia'].rank(method = 'min', ascending = False)\n",
    "\n",
    "df['C=F*R'] = df['Frecuencia'] * df['Ranking']\n",
    "\n",
    "df.sort_values(['Frecuencia'], ascending=False).head()"
   ]
  },
  {
   "cell_type": "code",
   "execution_count": 15,
   "metadata": {
    "collapsed": false
   },
   "outputs": [
    {
     "data": {
      "text/html": [
       "<div>\n",
       "<table border=\"1\" class=\"dataframe\">\n",
       "  <thead>\n",
       "    <tr style=\"text-align: right;\">\n",
       "      <th></th>\n",
       "      <th>Frecuencia</th>\n",
       "      <th>Ranking</th>\n",
       "      <th>C=F*R</th>\n",
       "      <th>Frec. Acum.</th>\n",
       "      <th>Frec. Rel.</th>\n",
       "      <th>Frec. Rel. Acum.</th>\n",
       "    </tr>\n",
       "  </thead>\n",
       "  <tbody>\n",
       "    <tr>\n",
       "      <th>que</th>\n",
       "      <td>21475.0</td>\n",
       "      <td>1.0</td>\n",
       "      <td>21475.0</td>\n",
       "      <td>21475.0</td>\n",
       "      <td>0.056333</td>\n",
       "      <td>0.056333</td>\n",
       "    </tr>\n",
       "    <tr>\n",
       "      <th>de</th>\n",
       "      <td>18298.0</td>\n",
       "      <td>2.0</td>\n",
       "      <td>36596.0</td>\n",
       "      <td>39773.0</td>\n",
       "      <td>0.047999</td>\n",
       "      <td>0.104332</td>\n",
       "    </tr>\n",
       "    <tr>\n",
       "      <th>y</th>\n",
       "      <td>18188.0</td>\n",
       "      <td>3.0</td>\n",
       "      <td>54564.0</td>\n",
       "      <td>57961.0</td>\n",
       "      <td>0.047711</td>\n",
       "      <td>0.152043</td>\n",
       "    </tr>\n",
       "    <tr>\n",
       "      <th>la</th>\n",
       "      <td>10363.0</td>\n",
       "      <td>4.0</td>\n",
       "      <td>41452.0</td>\n",
       "      <td>68324.0</td>\n",
       "      <td>0.027184</td>\n",
       "      <td>0.179227</td>\n",
       "    </tr>\n",
       "    <tr>\n",
       "      <th>a</th>\n",
       "      <td>9823.0</td>\n",
       "      <td>5.0</td>\n",
       "      <td>49115.0</td>\n",
       "      <td>78147.0</td>\n",
       "      <td>0.025768</td>\n",
       "      <td>0.204995</td>\n",
       "    </tr>\n",
       "  </tbody>\n",
       "</table>\n",
       "</div>"
      ],
      "text/plain": [
       "     Frecuencia  Ranking    C=F*R  Frec. Acum.  Frec. Rel.  Frec. Rel. Acum.\n",
       "que     21475.0      1.0  21475.0      21475.0    0.056333          0.056333\n",
       "de      18298.0      2.0  36596.0      39773.0    0.047999          0.104332\n",
       "y       18188.0      3.0  54564.0      57961.0    0.047711          0.152043\n",
       "la      10363.0      4.0  41452.0      68324.0    0.027184          0.179227\n",
       "a        9823.0      5.0  49115.0      78147.0    0.025768          0.204995"
      ]
     },
     "execution_count": 15,
     "metadata": {},
     "output_type": "execute_result"
    }
   ],
   "source": [
    "# Agrego alguna data extra \n",
    "n = df['Frecuencia'].sum()\n",
    "df['Frec. Acum.'] = df['Frecuencia'].sort_values(ascending=False).cumsum()\n",
    "df['Frec. Rel.'] = df['Frecuencia'] / n\n",
    "df['Frec. Rel. Acum.'] = df['Frec. Acum.'] / n\n",
    "df.sort_values(['Frecuencia'], ascending=False).head()"
   ]
  },
  {
   "cell_type": "code",
   "execution_count": 16,
   "metadata": {
    "collapsed": false
   },
   "outputs": [
    {
     "data": {
      "text/html": [
       "<div>\n",
       "<table border=\"1\" class=\"dataframe\">\n",
       "  <thead>\n",
       "    <tr style=\"text-align: right;\">\n",
       "      <th></th>\n",
       "      <th>Frecuencia</th>\n",
       "      <th>Ranking</th>\n",
       "      <th>C=F*R</th>\n",
       "      <th>Frec. Acum.</th>\n",
       "      <th>Frec. Rel.</th>\n",
       "      <th>Frec. Rel. Acum.</th>\n",
       "    </tr>\n",
       "  </thead>\n",
       "  <tbody>\n",
       "    <tr>\n",
       "      <th>guardese</th>\n",
       "      <td>4.0</td>\n",
       "      <td>5270.0</td>\n",
       "      <td>21080.0</td>\n",
       "      <td>353749.0</td>\n",
       "      <td>0.00001</td>\n",
       "      <td>0.927951</td>\n",
       "    </tr>\n",
       "    <tr>\n",
       "      <th>vituperio</th>\n",
       "      <td>4.0</td>\n",
       "      <td>5270.0</td>\n",
       "      <td>21080.0</td>\n",
       "      <td>353753.0</td>\n",
       "      <td>0.00001</td>\n",
       "      <td>0.927962</td>\n",
       "    </tr>\n",
       "    <tr>\n",
       "      <th>viedma</th>\n",
       "      <td>4.0</td>\n",
       "      <td>5270.0</td>\n",
       "      <td>21080.0</td>\n",
       "      <td>353757.0</td>\n",
       "      <td>0.00001</td>\n",
       "      <td>0.927972</td>\n",
       "    </tr>\n",
       "    <tr>\n",
       "      <th>proezas</th>\n",
       "      <td>4.0</td>\n",
       "      <td>5270.0</td>\n",
       "      <td>21080.0</td>\n",
       "      <td>353761.0</td>\n",
       "      <td>0.00001</td>\n",
       "      <td>0.927983</td>\n",
       "    </tr>\n",
       "    <tr>\n",
       "      <th>endereza</th>\n",
       "      <td>4.0</td>\n",
       "      <td>5270.0</td>\n",
       "      <td>21080.0</td>\n",
       "      <td>353765.0</td>\n",
       "      <td>0.00001</td>\n",
       "      <td>0.927993</td>\n",
       "    </tr>\n",
       "  </tbody>\n",
       "</table>\n",
       "</div>"
      ],
      "text/plain": [
       "           Frecuencia  Ranking    C=F*R  Frec. Acum.  Frec. Rel.  \\\n",
       "guardese          4.0   5270.0  21080.0     353749.0     0.00001   \n",
       "vituperio         4.0   5270.0  21080.0     353753.0     0.00001   \n",
       "viedma            4.0   5270.0  21080.0     353757.0     0.00001   \n",
       "proezas           4.0   5270.0  21080.0     353761.0     0.00001   \n",
       "endereza          4.0   5270.0  21080.0     353765.0     0.00001   \n",
       "\n",
       "           Frec. Rel. Acum.  \n",
       "guardese           0.927951  \n",
       "vituperio          0.927962  \n",
       "viedma             0.927972  \n",
       "proezas            0.927983  \n",
       "endereza           0.927993  "
      ]
     },
     "execution_count": 16,
     "metadata": {},
     "output_type": "execute_result"
    }
   ],
   "source": [
    "# Selecciono solo aquella data que tiene frecuencia < 5\n",
    "df_menor_5 = df[(df['Frecuencia'] < 5.0)]\n",
    "df_menor_5.sort_values(['Frec. Acum.'], ascending=True).to_csv('extras/quijote_frecuencia_menor_5.csv')\n",
    "df_menor_5.sort_values(['Frec. Acum.'], ascending=True).head()"
   ]
  },
  {
   "cell_type": "code",
   "execution_count": 17,
   "metadata": {
    "collapsed": false
   },
   "outputs": [
    {
     "name": "stdout",
     "output_type": "stream",
     "text": [
      "Quitando del índice aquellos terminos cuya frecuencia es menor que 5 se omite el 7.20 por ciento del total de términos\n"
     ]
    }
   ],
   "source": [
    "porcentaje_omitido = (1 - df_menor_5[\"Frec. Rel. Acum.\"].min()) * 100\n",
    "print \"Quitando del índice aquellos terminos cuya frecuencia es menor que 5 se omite el %.2f por ciento del total de términos\" % porcentaje_omitido"
   ]
  },
  {
   "cell_type": "code",
   "execution_count": 18,
   "metadata": {
    "collapsed": false
   },
   "outputs": [
    {
     "data": {
      "text/html": [
       "<div>\n",
       "<table border=\"1\" class=\"dataframe\">\n",
       "  <thead>\n",
       "    <tr style=\"text-align: right;\">\n",
       "      <th></th>\n",
       "      <th>Frecuencia</th>\n",
       "      <th>Ranking</th>\n",
       "      <th>C=F*R</th>\n",
       "      <th>Frec. Acum.</th>\n",
       "      <th>Frec. Rel.</th>\n",
       "      <th>Frec. Rel. Acum.</th>\n",
       "    </tr>\n",
       "  </thead>\n",
       "  <tbody>\n",
       "    <tr>\n",
       "      <th>incomparable</th>\n",
       "      <td>9.0</td>\n",
       "      <td>2964.0</td>\n",
       "      <td>26676.0</td>\n",
       "      <td>338829.0</td>\n",
       "      <td>0.000024</td>\n",
       "      <td>0.888813</td>\n",
       "    </tr>\n",
       "    <tr>\n",
       "      <th>alcanzan</th>\n",
       "      <td>9.0</td>\n",
       "      <td>2964.0</td>\n",
       "      <td>26676.0</td>\n",
       "      <td>338838.0</td>\n",
       "      <td>0.000024</td>\n",
       "      <td>0.888837</td>\n",
       "    </tr>\n",
       "    <tr>\n",
       "      <th>cortesmente</th>\n",
       "      <td>9.0</td>\n",
       "      <td>2964.0</td>\n",
       "      <td>26676.0</td>\n",
       "      <td>338847.0</td>\n",
       "      <td>0.000024</td>\n",
       "      <td>0.888861</td>\n",
       "    </tr>\n",
       "    <tr>\n",
       "      <th>amen</th>\n",
       "      <td>9.0</td>\n",
       "      <td>2964.0</td>\n",
       "      <td>26676.0</td>\n",
       "      <td>338856.0</td>\n",
       "      <td>0.000024</td>\n",
       "      <td>0.888884</td>\n",
       "    </tr>\n",
       "    <tr>\n",
       "      <th>maten</th>\n",
       "      <td>9.0</td>\n",
       "      <td>2964.0</td>\n",
       "      <td>26676.0</td>\n",
       "      <td>338865.0</td>\n",
       "      <td>0.000024</td>\n",
       "      <td>0.888908</td>\n",
       "    </tr>\n",
       "  </tbody>\n",
       "</table>\n",
       "</div>"
      ],
      "text/plain": [
       "              Frecuencia  Ranking    C=F*R  Frec. Acum.  Frec. Rel.  \\\n",
       "incomparable         9.0   2964.0  26676.0     338829.0    0.000024   \n",
       "alcanzan             9.0   2964.0  26676.0     338838.0    0.000024   \n",
       "cortesmente          9.0   2964.0  26676.0     338847.0    0.000024   \n",
       "amen                 9.0   2964.0  26676.0     338856.0    0.000024   \n",
       "maten                9.0   2964.0  26676.0     338865.0    0.000024   \n",
       "\n",
       "              Frec. Rel. Acum.  \n",
       "incomparable          0.888813  \n",
       "alcanzan              0.888837  \n",
       "cortesmente           0.888861  \n",
       "amen                  0.888884  \n",
       "maten                 0.888908  "
      ]
     },
     "execution_count": 18,
     "metadata": {},
     "output_type": "execute_result"
    }
   ],
   "source": [
    "# PROPORCION SEGUN ZIPF\n",
    "constante = df['C=F*R'].mean()\n",
    "frecuencia = 4.0\n",
    "beta = -np.polyfit(np.log(df['Ranking']), np.log(df['Frecuencia']), deg = 1)[0]\n",
    "\n",
    "# Se resuelve siguiente ecuacion:\n",
    "# ranking = (frecuencua * constante) ^ 1/beta\n",
    "f_por_c = frecuencia * constante\n",
    "raiz_beta = 1 / beta\n",
    "ranking = np.power(f_por_c, raiz_beta)\n",
    "\n",
    "df_zipf = df[df['Ranking'] >= ranking]\n",
    "df_zipf.sort_values(['Frec. Acum.'], ascending=True).head()"
   ]
  },
  {
   "cell_type": "code",
   "execution_count": 19,
   "metadata": {
    "collapsed": false
   },
   "outputs": [
    {
     "name": "stdout",
     "output_type": "stream",
     "text": [
      "Segun Zipf se omite el 11.12 por ciento del total de términos\n"
     ]
    }
   ],
   "source": [
    "porcentaje_omitido = (1 - df_zipf[\"Frec. Rel. Acum.\"].min()) * 100\n",
    "print \"Segun Zipf se omite el %.2f por ciento del total de términos\" % porcentaje_omitido"
   ]
  },
  {
   "cell_type": "code",
   "execution_count": 20,
   "metadata": {
    "collapsed": false
   },
   "outputs": [
    {
     "name": "stdout",
     "output_type": "stream",
     "text": [
      "0.10916656585\n"
     ]
    }
   ],
   "source": [
    "# PROPORCION SEGUN ZIPF\n",
    "constante = df['C=F*R'].mean()\n",
    "ranking = 5270\n",
    "beta = -np.polyfit(np.log(df['Ranking']), np.log(df['Frecuencia']), deg = 1)[0]\n",
    "\n",
    "# Se resuelve siguiente ecuacion:\n",
    "# frecuencia =  constante / (ranking ^ beta) \n",
    "frecuencia = constante / np.power(ranking, beta)\n",
    "print frecuencia"
   ]
  },
  {
   "cell_type": "code",
   "execution_count": null,
   "metadata": {
    "collapsed": true
   },
   "outputs": [],
   "source": []
  },
  {
   "cell_type": "code",
   "execution_count": null,
   "metadata": {
    "collapsed": true
   },
   "outputs": [],
   "source": []
  }
 ],
 "metadata": {
  "kernelspec": {
   "display_name": "Python 2",
   "language": "python",
   "name": "python2"
  },
  "language_info": {
   "codemirror_mode": {
    "name": "ipython",
    "version": 2
   },
   "file_extension": ".py",
   "mimetype": "text/x-python",
   "name": "python",
   "nbconvert_exporter": "python",
   "pygments_lexer": "ipython2",
   "version": "2.7.6"
  }
 },
 "nbformat": 4,
 "nbformat_minor": 0
}
