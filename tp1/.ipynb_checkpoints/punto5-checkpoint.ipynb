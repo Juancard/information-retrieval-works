{
 "cells": [
  {
   "cell_type": "code",
   "execution_count": null,
   "metadata": {
    "collapsed": true
   },
   "outputs": [],
   "source": [
    "# -*- coding: utf-8 -*-\n",
    "import sys\n",
    "import os\n",
    "import unicodedata\n",
    "import string\n",
    "import urllib2\n",
    "\n",
    "import numpy as np\n",
    "import pandas as pd\n",
    "import matplotlib.pyplot as plt\n",
    "\n",
    "# Agrego al path la carpeta modulos\n",
    "sys.path.insert(0, os.path.abspath(\"../modulos\"))\n",
    "import lex_analyser"
   ]
  },
  {
   "cell_type": "code",
   "execution_count": 39,
   "metadata": {
    "collapsed": false
   },
   "outputs": [],
   "source": [
    "url = 'http://www.gutenberg.org/cache/epub/2000/pg2000.txt'\n",
    "response = urllib2.urlopen(url)\n",
    "raw = response.read()"
   ]
  },
  {
   "cell_type": "code",
   "execution_count": 40,
   "metadata": {
    "collapsed": false
   },
   "outputs": [
    {
     "name": "stdout",
     "output_type": "stream",
     "text": [
      "2178990\n"
     ]
    }
   ],
   "source": [
    "start = raw.find('El ingenioso hidalgo don Quijote de la Mancha')\n",
    "end = raw.rfind('End of Project Gutenberg')\n",
    "raw = raw[start:end]\n",
    "print len(raw)"
   ]
  },
  {
   "cell_type": "code",
   "execution_count": 41,
   "metadata": {
    "collapsed": false
   },
   "outputs": [
    {
     "name": "stdout",
     "output_type": "stream",
     "text": [
      "[{'consuelome': 1}, {'canes': 3}, {'igual': 16}, {'indignacion': 2}, {'hermana': 11}, {'hermano': 106}, {'gastara': 1}, {'acababamos': 1}, {'dictado': 1}, {'compuesta': 11}]\n"
     ]
    }
   ],
   "source": [
    "vocabulario = {}\n",
    "listaTokens = lex_analyser.tokenizar(raw)\n",
    "for termino in listaTokens:\n",
    "    if termino not in vocabulario:\n",
    "        vocabulario[termino] = 1\n",
    "    else:\n",
    "        vocabulario[termino] += 1\n",
    "print [{key: val} for key, val in vocabulario.items()[:10]]"
   ]
  },
  {
   "cell_type": "code",
   "execution_count": 42,
   "metadata": {
    "collapsed": false
   },
   "outputs": [
    {
     "data": {
      "text/html": [
       "<div>\n",
       "<table border=\"1\" class=\"dataframe\">\n",
       "  <thead>\n",
       "    <tr style=\"text-align: right;\">\n",
       "      <th></th>\n",
       "      <th>Frecuencia</th>\n",
       "      <th>Ranking</th>\n",
       "      <th>C=F*R</th>\n",
       "    </tr>\n",
       "  </thead>\n",
       "  <tbody>\n",
       "    <tr>\n",
       "      <th>que</th>\n",
       "      <td>21475.0</td>\n",
       "      <td>1.0</td>\n",
       "      <td>21475.0</td>\n",
       "    </tr>\n",
       "    <tr>\n",
       "      <th>de</th>\n",
       "      <td>18298.0</td>\n",
       "      <td>2.0</td>\n",
       "      <td>36596.0</td>\n",
       "    </tr>\n",
       "    <tr>\n",
       "      <th>y</th>\n",
       "      <td>18188.0</td>\n",
       "      <td>3.0</td>\n",
       "      <td>54564.0</td>\n",
       "    </tr>\n",
       "    <tr>\n",
       "      <th>la</th>\n",
       "      <td>10363.0</td>\n",
       "      <td>4.0</td>\n",
       "      <td>41452.0</td>\n",
       "    </tr>\n",
       "    <tr>\n",
       "      <th>a</th>\n",
       "      <td>9823.0</td>\n",
       "      <td>5.0</td>\n",
       "      <td>49115.0</td>\n",
       "    </tr>\n",
       "  </tbody>\n",
       "</table>\n",
       "</div>"
      ],
      "text/plain": [
       "     Frecuencia  Ranking    C=F*R\n",
       "que     21475.0      1.0  21475.0\n",
       "de      18298.0      2.0  36596.0\n",
       "y       18188.0      3.0  54564.0\n",
       "la      10363.0      4.0  41452.0\n",
       "a        9823.0      5.0  49115.0"
      ]
     },
     "execution_count": 42,
     "metadata": {},
     "output_type": "execute_result"
    }
   ],
   "source": [
    "df = pd.DataFrame(index = vocabulario.keys(),\n",
    "                  columns = ['Frecuencia','Ranking','C=F*R'],\n",
    "                  dtype = 'float64')\n",
    "for a in df.index:\n",
    "    df.loc[a,'Frecuencia'] = vocabulario[a]\n",
    "df['Ranking'] = df['Frecuencia'].rank(method = 'min', ascending = False)\n",
    "df['C=F*R'] = df['Frecuencia'] * df['Ranking']\n",
    "\n",
    "df.sort_values(['Frecuencia'], ascending=False).head()\n"
   ]
  },
  {
   "cell_type": "code",
   "execution_count": 43,
   "metadata": {
    "collapsed": false
   },
   "outputs": [
    {
     "data": {
      "text/plain": [
       "count    22478.000000\n",
       "mean     17478.203043\n",
       "std       7581.511869\n",
       "min      11579.000000\n",
       "25%      11579.000000\n",
       "50%      16264.000000\n",
       "75%      21080.000000\n",
       "max      57687.000000\n",
       "Name: C=F*R, dtype: float64"
      ]
     },
     "execution_count": 43,
     "metadata": {},
     "output_type": "execute_result"
    }
   ],
   "source": [
    "df['C=F*R'].describe()"
   ]
  },
  {
   "cell_type": "code",
   "execution_count": 44,
   "metadata": {
    "collapsed": true
   },
   "outputs": [],
   "source": [
    "def zipfLoglog(data):\n",
    "    df = data['df']\n",
    "    title = data['title']\n",
    "    \n",
    "    x = np.log(df['Ranking'])\n",
    "    y = np.log(df['Frecuencia'])\n",
    "\n",
    "    fit = np.polyfit(x, y, deg = 1)\n",
    "    fitted = fit[0] * x + fit[1]\n",
    "\n",
    "    fig = plt.Figure(figsize = (4,4), facecolor = 'W', edgecolor = 'W')\n",
    "    ax = plt.subplot(111)\n",
    "\n",
    "    ax.set_title(title)\n",
    "    ax.set_xlabel('Log(Ranking)')\n",
    "    ax.set_ylabel('Log(Frecuencia)')\n",
    "\n",
    "    ax.plot(x, y, 'bo')\n",
    "    ax.plot(x,fitted,'r')\n",
    "    \n",
    "    return ax"
   ]
  },
  {
   "cell_type": "code",
   "execution_count": 45,
   "metadata": {
    "collapsed": true
   },
   "outputs": [],
   "source": [
    "def zipfLineal(data):\n",
    "    df = data['df']\n",
    "    title = data['title']\n",
    "    \n",
    "    x = df['Ranking']\n",
    "    y = df['Frecuencia']\n",
    "\n",
    "    fig = plt.Figure(figsize = (4,4), facecolor = 'W', edgecolor = 'W')\n",
    "    ax = plt.subplot(111)\n",
    "\n",
    "    ax.set_title(title)\n",
    "    ax.set_xlabel('Ranking')\n",
    "    ax.set_ylabel('Frecuencia')\n",
    "\n",
    "    ax.plot(x, y, 'bo')\n",
    "    \n",
    "    return ax"
   ]
  },
  {
   "cell_type": "code",
   "execution_count": 46,
   "metadata": {
    "collapsed": false
   },
   "outputs": [],
   "source": [
    "# MUESTRO Y GUARDO ZIPF LINEAL SIN PODA\n",
    "data = {}\n",
    "data['df'] = df\n",
    "data['title'] = 'Ley de Zipf - Lineal\\nEl ingenioso hidalgo don Quijote de la Mancha'\n",
    "ax = zipfLineal(data)\n",
    "plt.show()\n",
    "ax.get_figure().savefig('zipf_lineal.png', bbox_inches='tight')"
   ]
  },
  {
   "cell_type": "code",
   "execution_count": 47,
   "metadata": {
    "collapsed": false
   },
   "outputs": [],
   "source": [
    "# MUESTRO Y GUARDO ZIPF lOGLOG SIN PODA\n",
    "data['df'] = df\n",
    "data['title'] = 'Ley de Zipf - Loglog \\nEl ingenioso hidalgo don Quijote de la Mancha'\n",
    "ax = zipfLoglog(data)\n",
    "plt.show()\n",
    "ax.get_figure().savefig('zipf_loglog.png', bbox_inches='tight')"
   ]
  },
  {
   "cell_type": "code",
   "execution_count": 55,
   "metadata": {
    "collapsed": false
   },
   "outputs": [
    {
     "data": {
      "text/html": [
       "<div>\n",
       "<table border=\"1\" class=\"dataframe\">\n",
       "  <thead>\n",
       "    <tr style=\"text-align: right;\">\n",
       "      <th></th>\n",
       "      <th>Frecuencia</th>\n",
       "      <th>Ranking</th>\n",
       "      <th>C=F*R</th>\n",
       "      <th>Frec. Acum.</th>\n",
       "      <th>Frec. Rel. Acum.</th>\n",
       "      <th>Frec. Rel.</th>\n",
       "    </tr>\n",
       "  </thead>\n",
       "  <tbody>\n",
       "    <tr>\n",
       "      <th>que</th>\n",
       "      <td>21475.0</td>\n",
       "      <td>1.0</td>\n",
       "      <td>21475.0</td>\n",
       "      <td>21475.0</td>\n",
       "      <td>0.056333</td>\n",
       "      <td>0.056333</td>\n",
       "    </tr>\n",
       "    <tr>\n",
       "      <th>de</th>\n",
       "      <td>18298.0</td>\n",
       "      <td>2.0</td>\n",
       "      <td>36596.0</td>\n",
       "      <td>39773.0</td>\n",
       "      <td>0.104332</td>\n",
       "      <td>0.047999</td>\n",
       "    </tr>\n",
       "    <tr>\n",
       "      <th>y</th>\n",
       "      <td>18188.0</td>\n",
       "      <td>3.0</td>\n",
       "      <td>54564.0</td>\n",
       "      <td>57961.0</td>\n",
       "      <td>0.152043</td>\n",
       "      <td>0.047711</td>\n",
       "    </tr>\n",
       "    <tr>\n",
       "      <th>la</th>\n",
       "      <td>10363.0</td>\n",
       "      <td>4.0</td>\n",
       "      <td>41452.0</td>\n",
       "      <td>68324.0</td>\n",
       "      <td>0.179227</td>\n",
       "      <td>0.027184</td>\n",
       "    </tr>\n",
       "    <tr>\n",
       "      <th>a</th>\n",
       "      <td>9823.0</td>\n",
       "      <td>5.0</td>\n",
       "      <td>49115.0</td>\n",
       "      <td>78147.0</td>\n",
       "      <td>0.204995</td>\n",
       "      <td>0.025768</td>\n",
       "    </tr>\n",
       "  </tbody>\n",
       "</table>\n",
       "</div>"
      ],
      "text/plain": [
       "     Frecuencia  Ranking    C=F*R  Frec. Acum.  Frec. Rel. Acum.  Frec. Rel.\n",
       "que     21475.0      1.0  21475.0      21475.0          0.056333    0.056333\n",
       "de      18298.0      2.0  36596.0      39773.0          0.104332    0.047999\n",
       "y       18188.0      3.0  54564.0      57961.0          0.152043    0.047711\n",
       "la      10363.0      4.0  41452.0      68324.0          0.179227    0.027184\n",
       "a        9823.0      5.0  49115.0      78147.0          0.204995    0.025768"
      ]
     },
     "execution_count": 55,
     "metadata": {},
     "output_type": "execute_result"
    }
   ],
   "source": [
    "# PARA PODA AGREGO COLUMNA DE FRECUENCIA ACUMULADA\n",
    "n = df['Frecuencia'].sum()\n",
    "df['Frec. Acum.'] = df['Frecuencia'].sort_values(ascending=False).cumsum()\n",
    "df['Frec. Rel.'] = df['Frecuencia'] / n\n",
    "df['Frec. Rel. Acum.'] = df['Frec. Acum.'] / n\n",
    "df.sort_values(['Frecuencia'], ascending=False).to_csv('Quijote.csv')\n",
    "df.sort_values(['Frecuencia'], ascending=False).head()"
   ]
  },
  {
   "cell_type": "code",
   "execution_count": 49,
   "metadata": {
    "collapsed": false
   },
   "outputs": [],
   "source": [
    "#PODA DEL 5% - LINEAL\n",
    "data['df'] = df[(df['Frec. Rel. Acum.'] <= 0.975) & (df['Frec. Rel. Acum.'] >= 0.025)]\n",
    "data['title'] = 'Ley de Zipf - Lineal - Poda del 5%\\nEl ingenioso hidalgo don Quijote de la Mancha'\n",
    "ax = zipfLineal(data)\n",
    "plt.show()\n",
    "ax.get_figure().savefig('zipf_lineal_poda_05.png', bbox_inches='tight')"
   ]
  },
  {
   "cell_type": "code",
   "execution_count": 14,
   "metadata": {
    "collapsed": false
   },
   "outputs": [],
   "source": [
    "#PODA DEL 5% - Loglog\n",
    "data['title'] = 'Ley de Zipf - Loglog - Poda del 5%\\nEl ingenioso hidalgo don Quijote de la Mancha'\n",
    "ax = zipfLoglog(data)\n",
    "plt.show()\n",
    "ax.get_figure().savefig('zipf_loglog_poda_05.png', bbox_inches='tight')\n"
   ]
  },
  {
   "cell_type": "code",
   "execution_count": 50,
   "metadata": {
    "collapsed": true
   },
   "outputs": [],
   "source": [
    "#PODA DEL 10% - LINEAL\n",
    "data['df'] = df[(df['Frec. Rel. Acum.'] <= 0.95) & (df['Frec. Rel. Acum.'] >= 0.05)]\n",
    "data['title'] = 'Ley de Zipf - Lineal - Poda del 10%\\nEl ingenioso hidalgo don Quijote de la Mancha'\n",
    "ax = zipfLineal(data)\n",
    "plt.show()\n",
    "ax.get_figure().savefig('zipf_lineal_poda_10.png', bbox_inches='tight')"
   ]
  },
  {
   "cell_type": "code",
   "execution_count": 51,
   "metadata": {
    "collapsed": true
   },
   "outputs": [],
   "source": [
    "#PODA DEL 10% - Loglog\n",
    "data['title'] = 'Ley de Zipf - Loglog - Poda del 10%\\nEl ingenioso hidalgo don Quijote de la Mancha'\n",
    "ax = zipfLoglog(data)\n",
    "plt.show()\n",
    "ax.get_figure().savefig('zipf_loglog_poda_10.png', bbox_inches='tight')\n"
   ]
  },
  {
   "cell_type": "code",
   "execution_count": 52,
   "metadata": {
    "collapsed": true
   },
   "outputs": [],
   "source": [
    "#PODA DEL 15% - LINEAL\n",
    "data['df'] = df[(df['Frec. Rel. Acum.'] <= 0.925) & (df['Frec. Rel. Acum.'] >= 0.075)]\n",
    "data['title'] = 'Ley de Zipf - Lineal - Poda del 15%\\nEl ingenioso hidalgo don Quijote de la Mancha'\n",
    "ax = zipfLineal(data)\n",
    "plt.show()\n",
    "ax.get_figure().savefig('zipf_lineal_poda_15.png', bbox_inches='tight')"
   ]
  },
  {
   "cell_type": "code",
   "execution_count": 53,
   "metadata": {
    "collapsed": true
   },
   "outputs": [],
   "source": [
    "#PODA DEL 15% - LOGLOG\n",
    "data['title'] = 'Ley de Zipf - Loglog - Poda del 15%\\nEl ingenioso hidalgo don Quijote de la Mancha'\n",
    "ax = zipfLoglog(data)\n",
    "plt.show()\n",
    "ax.get_figure().savefig('zipf_loglog_poda_15.png', bbox_inches='tight')"
   ]
  },
  {
   "cell_type": "code",
   "execution_count": 86,
   "metadata": {
    "collapsed": true
   },
   "outputs": [],
   "source": []
  },
  {
   "cell_type": "code",
   "execution_count": 87,
   "metadata": {
    "collapsed": true
   },
   "outputs": [],
   "source": []
  },
  {
   "cell_type": "code",
   "execution_count": 91,
   "metadata": {
    "collapsed": true
   },
   "outputs": [],
   "source": []
  },
  {
   "cell_type": "code",
   "execution_count": 92,
   "metadata": {
    "collapsed": false
   },
   "outputs": [],
   "source": []
  },
  {
   "cell_type": "code",
   "execution_count": null,
   "metadata": {
    "collapsed": true
   },
   "outputs": [],
   "source": []
  }
 ],
 "metadata": {
  "kernelspec": {
   "display_name": "Python 2",
   "language": "python",
   "name": "python2"
  },
  "language_info": {
   "codemirror_mode": {
    "name": "ipython",
    "version": 2
   },
   "file_extension": ".py",
   "mimetype": "text/x-python",
   "name": "python",
   "nbconvert_exporter": "python",
   "pygments_lexer": "ipython2",
   "version": "2.7.6"
  }
 },
 "nbformat": 4,
 "nbformat_minor": 0
}
