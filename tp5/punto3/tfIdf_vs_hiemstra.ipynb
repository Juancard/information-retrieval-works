{
 "cells": [
  {
   "cell_type": "code",
   "execution_count": 1,
   "metadata": {
    "collapsed": false
   },
   "outputs": [],
   "source": [
    "import os\n",
    "import sys\n",
    "import re\n",
    "import pandas as pd\n",
    "import matplotlib.pyplot as plt"
   ]
  },
  {
   "cell_type": "code",
   "execution_count": 2,
   "metadata": {
    "collapsed": false
   },
   "outputs": [],
   "source": [
    "hiemstraPath = \"Hiemstra_LM.eval\"\n",
    "tf_idfPath = \"TF_IDF.eval\""
   ]
  },
  {
   "cell_type": "code",
   "execution_count": 3,
   "metadata": {
    "collapsed": true
   },
   "outputs": [],
   "source": [
    "def readRp(toRead):   \n",
    "    pattern = re.compile(r'Precision at\\s+(\\d+)%\\:\\s+(\\d*(?:\\.)?\\d*)')\n",
    "    rp = {}\n",
    "    for item in toRead:\n",
    "        m = pattern.match(item)\n",
    "        if m:\n",
    "            pair = m.groups()\n",
    "            rp[int(pair[0])] = float(pair[1])\n",
    "    return rp"
   ]
  },
  {
   "cell_type": "code",
   "execution_count": 4,
   "metadata": {
    "collapsed": false
   },
   "outputs": [
    {
     "name": "stdout",
     "output_type": "stream",
     "text": [
      "TF_IDF PRECISION\n",
      "{0: 0.649, 100: 0.0077, 70: 0.0867, 40: 0.182, 10: 0.3888, 80: 0.0619, 50: 0.156, 20: 0.2873, 90: 0.0324, 60: 0.1221, 30: 0.2133}\n"
     ]
    }
   ],
   "source": [
    "with open(tf_idfPath) as f:\n",
    "    tf_idfRp = f.readlines()\n",
    "tf_idfRp = readRp(tf_idfRp)\n",
    "\n",
    "print \"TF_IDF PRECISION\"\n",
    "print tf_idfRp"
   ]
  },
  {
   "cell_type": "code",
   "execution_count": 5,
   "metadata": {
    "collapsed": false
   },
   "outputs": [
    {
     "name": "stdout",
     "output_type": "stream",
     "text": [
      "Hiemstra_LM PRECISION\n",
      "{0: 0.6043, 100: 0.0035, 70: 0.0766, 40: 0.151, 10: 0.3257, 80: 0.0513, 50: 0.1282, 20: 0.2547, 90: 0.0265, 60: 0.1017, 30: 0.1863}\n"
     ]
    }
   ],
   "source": [
    "with open(hiemstraPath) as f:\n",
    "    hiemstraRp = f.readlines()\n",
    "hiemstraRp = readRp(hiemstraRp)\n",
    "print \"Hiemstra_LM PRECISION\"\n",
    "print hiemstraRp"
   ]
  },
  {
   "cell_type": "code",
   "execution_count": 6,
   "metadata": {
    "collapsed": false
   },
   "outputs": [
    {
     "name": "stdout",
     "output_type": "stream",
     "text": [
      "TF_IDF: Precision interpolada\n"
     ]
    },
    {
     "data": {
      "text/html": [
       "<div>\n",
       "<table border=\"1\" class=\"dataframe\">\n",
       "  <thead>\n",
       "    <tr style=\"text-align: right;\">\n",
       "      <th></th>\n",
       "      <th>Precision interpolada</th>\n",
       "    </tr>\n",
       "  </thead>\n",
       "  <tbody>\n",
       "    <tr>\n",
       "      <th>0.0</th>\n",
       "      <td>0.6490</td>\n",
       "    </tr>\n",
       "    <tr>\n",
       "      <th>0.1</th>\n",
       "      <td>0.3888</td>\n",
       "    </tr>\n",
       "    <tr>\n",
       "      <th>0.2</th>\n",
       "      <td>0.2873</td>\n",
       "    </tr>\n",
       "    <tr>\n",
       "      <th>0.3</th>\n",
       "      <td>0.2133</td>\n",
       "    </tr>\n",
       "    <tr>\n",
       "      <th>0.4</th>\n",
       "      <td>0.1820</td>\n",
       "    </tr>\n",
       "    <tr>\n",
       "      <th>0.5</th>\n",
       "      <td>0.1560</td>\n",
       "    </tr>\n",
       "    <tr>\n",
       "      <th>0.6</th>\n",
       "      <td>0.1221</td>\n",
       "    </tr>\n",
       "    <tr>\n",
       "      <th>0.7</th>\n",
       "      <td>0.0867</td>\n",
       "    </tr>\n",
       "    <tr>\n",
       "      <th>0.8</th>\n",
       "      <td>0.0619</td>\n",
       "    </tr>\n",
       "    <tr>\n",
       "      <th>0.9</th>\n",
       "      <td>0.0324</td>\n",
       "    </tr>\n",
       "    <tr>\n",
       "      <th>1.0</th>\n",
       "      <td>0.0077</td>\n",
       "    </tr>\n",
       "  </tbody>\n",
       "</table>\n",
       "</div>"
      ],
      "text/plain": [
       "     Precision interpolada\n",
       "0.0                 0.6490\n",
       "0.1                 0.3888\n",
       "0.2                 0.2873\n",
       "0.3                 0.2133\n",
       "0.4                 0.1820\n",
       "0.5                 0.1560\n",
       "0.6                 0.1221\n",
       "0.7                 0.0867\n",
       "0.8                 0.0619\n",
       "0.9                 0.0324\n",
       "1.0                 0.0077"
      ]
     },
     "execution_count": 6,
     "metadata": {},
     "output_type": "execute_result"
    }
   ],
   "source": [
    "tf_idfRp = pd.DataFrame([tf_idfRp[rp] for rp in tf_idfRp], index = [float(rp)/100 for rp in tf_idfRp],\n",
    "                  columns = ['Precision interpolada'],\n",
    "                  dtype = 'float64')\n",
    "tf_idfRp.sort_index(inplace=True)\n",
    "\n",
    "print \"TF_IDF: Precision interpolada\"\n",
    "tf_idfRp"
   ]
  },
  {
   "cell_type": "code",
   "execution_count": 7,
   "metadata": {
    "collapsed": false
   },
   "outputs": [
    {
     "name": "stdout",
     "output_type": "stream",
     "text": [
      "Hiemstra_LM: Precision interpolada\n"
     ]
    },
    {
     "data": {
      "text/html": [
       "<div>\n",
       "<table border=\"1\" class=\"dataframe\">\n",
       "  <thead>\n",
       "    <tr style=\"text-align: right;\">\n",
       "      <th></th>\n",
       "      <th>Precision interpolada</th>\n",
       "    </tr>\n",
       "  </thead>\n",
       "  <tbody>\n",
       "    <tr>\n",
       "      <th>0.0</th>\n",
       "      <td>0.6043</td>\n",
       "    </tr>\n",
       "    <tr>\n",
       "      <th>0.1</th>\n",
       "      <td>0.3257</td>\n",
       "    </tr>\n",
       "    <tr>\n",
       "      <th>0.2</th>\n",
       "      <td>0.2547</td>\n",
       "    </tr>\n",
       "    <tr>\n",
       "      <th>0.3</th>\n",
       "      <td>0.1863</td>\n",
       "    </tr>\n",
       "    <tr>\n",
       "      <th>0.4</th>\n",
       "      <td>0.1510</td>\n",
       "    </tr>\n",
       "    <tr>\n",
       "      <th>0.5</th>\n",
       "      <td>0.1282</td>\n",
       "    </tr>\n",
       "    <tr>\n",
       "      <th>0.6</th>\n",
       "      <td>0.1017</td>\n",
       "    </tr>\n",
       "    <tr>\n",
       "      <th>0.7</th>\n",
       "      <td>0.0766</td>\n",
       "    </tr>\n",
       "    <tr>\n",
       "      <th>0.8</th>\n",
       "      <td>0.0513</td>\n",
       "    </tr>\n",
       "    <tr>\n",
       "      <th>0.9</th>\n",
       "      <td>0.0265</td>\n",
       "    </tr>\n",
       "    <tr>\n",
       "      <th>1.0</th>\n",
       "      <td>0.0035</td>\n",
       "    </tr>\n",
       "  </tbody>\n",
       "</table>\n",
       "</div>"
      ],
      "text/plain": [
       "     Precision interpolada\n",
       "0.0                 0.6043\n",
       "0.1                 0.3257\n",
       "0.2                 0.2547\n",
       "0.3                 0.1863\n",
       "0.4                 0.1510\n",
       "0.5                 0.1282\n",
       "0.6                 0.1017\n",
       "0.7                 0.0766\n",
       "0.8                 0.0513\n",
       "0.9                 0.0265\n",
       "1.0                 0.0035"
      ]
     },
     "execution_count": 7,
     "metadata": {},
     "output_type": "execute_result"
    }
   ],
   "source": [
    "hiemstraRp = pd.DataFrame([hiemstraRp[rp] for rp in hiemstraRp], index = [float(rp)/100 for rp in hiemstraRp],\n",
    "                  columns = ['Precision interpolada'],\n",
    "                  dtype = 'float64')\n",
    "hiemstraRp.sort_index(inplace=True)\n",
    "\n",
    "print \"Hiemstra_LM: Precision interpolada\"\n",
    "hiemstraRp"
   ]
  },
  {
   "cell_type": "code",
   "execution_count": 11,
   "metadata": {
    "collapsed": false
   },
   "outputs": [],
   "source": [
    "x_tf_idf = tf_idfRp.index\n",
    "y_tf_idf = tf_idfRp['Precision interpolada']\n",
    "\n",
    "x_hiemstra = hiemstraRp.index\n",
    "y_hiemstra = hiemstraRp['Precision interpolada']\n",
    "\n",
    "fig = plt.Figure(figsize = (4,4), facecolor = 'W', edgecolor = 'W')\n",
    "ax = plt.subplot(111)\n",
    "\n",
    "ax.set_title(\"RP interpolada\\n\")\n",
    "ax.set_xlabel('Recall standard')\n",
    "ax.set_ylabel('Prec. interpolada')\n",
    "\n",
    "ax.plot(x_tf_idf, y_tf_idf, '-o', label=\"TF_IDF\")\n",
    "ax.plot(x_hiemstra, y_hiemstra, '-o', label=\"Hiemstra_LM\")\n",
    "\n",
    "plt.xlim(xmin=0.0, xmax=1.0)\n",
    "plt.ylim(ymin=0.0, ymax=1.0)\n",
    "ax.legend(loc='upper center', shadow=True)\n",
    "\n",
    "plt.show()"
   ]
  },
  {
   "cell_type": "code",
   "execution_count": 10,
   "metadata": {
    "collapsed": false
   },
   "outputs": [],
   "source": [
    "ax.get_figure().savefig('tfIdf_vs_hiemstra_graph.png', bbox_inches='tight')"
   ]
  },
  {
   "cell_type": "code",
   "execution_count": null,
   "metadata": {
    "collapsed": true
   },
   "outputs": [],
   "source": []
  }
 ],
 "metadata": {
  "kernelspec": {
   "display_name": "Python 2",
   "language": "python",
   "name": "python2"
  },
  "language_info": {
   "codemirror_mode": {
    "name": "ipython",
    "version": 2
   },
   "file_extension": ".py",
   "mimetype": "text/x-python",
   "name": "python",
   "nbconvert_exporter": "python",
   "pygments_lexer": "ipython2",
   "version": "2.7.6"
  }
 },
 "nbformat": 4,
 "nbformat_minor": 0
}
