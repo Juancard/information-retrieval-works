{
 "cells": [
  {
   "cell_type": "code",
   "execution_count": 3,
   "metadata": {
    "collapsed": false
   },
   "outputs": [],
   "source": [
    "# -*- coding: utf-8 -*-\n",
    "import sys\n",
    "import os\n",
    "import unicodedata\n",
    "import string\n",
    "import urllib2\n",
    "\n",
    "import numpy as np\n",
    "import pandas as pd\n",
    "import matplotlib.pyplot as plt\n",
    "\n",
    "# Agrego al path la carpeta modulos\n",
    "sys.path.insert(0, os.path.abspath(\"../../modulos\"))\n",
    "from LexAnalyser import LexAnalyser"
   ]
  },
  {
   "cell_type": "code",
   "execution_count": 4,
   "metadata": {
    "collapsed": false
   },
   "outputs": [
    {
     "name": "stdout",
     "output_type": "stream",
     "text": [
      "2178990\n"
     ]
    }
   ],
   "source": [
    "url = 'http://www.gutenberg.org/cache/epub/2000/pg2000.txt'\n",
    "response = urllib2.urlopen(url)\n",
    "raw = response.read()\n",
    "start = raw.find('El ingenioso hidalgo don Quijote de la Mancha')\n",
    "end = raw.rfind('End of Project Gutenberg')\n",
    "raw = raw[start:end]\n",
    "print len(raw)"
   ]
  },
  {
   "cell_type": "code",
   "execution_count": 6,
   "metadata": {
    "collapsed": false
   },
   "outputs": [
    {
     "name": "stdout",
     "output_type": "stream",
     "text": [
      "[{u'consuelome': 1}, {u'canes': 3}, {u'igual': 16}, {u'indignacion': 2}, {u'hermana': 11}, {u'hermano': 106}, {u'gastara': 1}, {u'acababamos': 1}, {u'dictado': 1}, {u'compuesta': 11}]\n",
      "[1, 2, 3, 4, 5, 6, 7, 8, 9, 10, 11, 12, 12, 13, 14, 14, 15, 16, 17, 18, 19, 19, 20, 21, 22, 23, 24, 25, 26, 27, 28, 29, 29, 30, 31, 32, 32, 33, 33, 34, 35, 36, 36, 36, 36, 36, 36, 36, 37, 37]\n"
     ]
    }
   ],
   "source": [
    "vocabulario = {}\n",
    "la = LexAnalyser({})\n",
    "terms = la.analyse(raw.decode(\"UTF-8\"))[\"terms\"]\n",
    "terminos_unicos = []\n",
    "for t in terms:\n",
    "    if t not in vocabulario:\n",
    "        vocabulario[t] = 1\n",
    "    else:\n",
    "        vocabulario[t] += 1\n",
    "    terminos_unicos.append(len(vocabulario))\n",
    "print [{key: val} for key, val in vocabulario.items()[:10]]\n",
    "print terminos_unicos[:50]"
   ]
  },
  {
   "cell_type": "code",
   "execution_count": 7,
   "metadata": {
    "collapsed": true
   },
   "outputs": [],
   "source": [
    "x = [x+1 for x in range(len(terminos_unicos))]\n",
    "\n",
    "# EStimo 'y' segun ley de heaps\n",
    "beta = 0.6 \n",
    "k = 10\n",
    "y_heaps = [k * np.power(n,beta) for n in x]\n",
    "\n",
    "# los 'y' reales previamente calculados\n",
    "y_reales = terminos_unicos\n",
    "\n",
    "fig = plt.Figure(figsize = (4,4), facecolor = 'W', edgecolor = 'W')\n",
    "ax = plt.subplot(111)\n",
    "\n",
    "ax.set_title('Ley de Heaps - El Quijote de Cervantes\\n')\n",
    "ax.set_xlabel('Terminos totales procesados')\n",
    "ax.set_ylabel('Terminos unicos')\n",
    "\n",
    "ax.plot(x, y_heaps,'k',lw=7.0, alpha=0.6, label=\"Real\")\n",
    "ax.plot(x, y_reales,'r', lw=2.0, label=\"Estimacion segun Heaps\")\n",
    "ax.legend(loc='upper center', shadow=True)\n",
    "\n",
    "plt.show()\n",
    "ax.get_figure().savefig('heaps_quijote.png', bbox_inches='tight')"
   ]
  },
  {
   "cell_type": "code",
   "execution_count": 73,
   "metadata": {
    "collapsed": false
   },
   "outputs": [],
   "source": []
  },
  {
   "cell_type": "code",
   "execution_count": null,
   "metadata": {
    "collapsed": true
   },
   "outputs": [],
   "source": []
  },
  {
   "cell_type": "code",
   "execution_count": null,
   "metadata": {
    "collapsed": true
   },
   "outputs": [],
   "source": []
  }
 ],
 "metadata": {
  "kernelspec": {
   "display_name": "Python 2",
   "language": "python",
   "name": "python2"
  },
  "language_info": {
   "codemirror_mode": {
    "name": "ipython",
    "version": 2
   },
   "file_extension": ".py",
   "mimetype": "text/x-python",
   "name": "python",
   "nbconvert_exporter": "python",
   "pygments_lexer": "ipython2",
   "version": "2.7.6"
  }
 },
 "nbformat": 4,
 "nbformat_minor": 0
}
