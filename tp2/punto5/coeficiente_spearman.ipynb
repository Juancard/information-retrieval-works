{
 "cells": [
  {
   "cell_type": "code",
   "execution_count": 1,
   "metadata": {
    "collapsed": false
   },
   "outputs": [
    {
     "data": {
      "text/html": [
       "<div>\n",
       "<table border=\"1\" class=\"dataframe\">\n",
       "  <thead>\n",
       "    <tr style=\"text-align: right;\">\n",
       "      <th></th>\n",
       "      <th></th>\n",
       "      <th>Ranking - TF_IDF</th>\n",
       "      <th>Similtud - TF_IDF</th>\n",
       "    </tr>\n",
       "    <tr>\n",
       "      <th>Id query</th>\n",
       "      <th>Id doc</th>\n",
       "      <th></th>\n",
       "      <th></th>\n",
       "    </tr>\n",
       "  </thead>\n",
       "  <tbody>\n",
       "    <tr>\n",
       "      <th rowspan=\"5\" valign=\"top\">1</th>\n",
       "      <th>122</th>\n",
       "      <td>0</td>\n",
       "      <td>3.022447</td>\n",
       "    </tr>\n",
       "    <tr>\n",
       "      <th>206</th>\n",
       "      <td>1</td>\n",
       "      <td>2.964958</td>\n",
       "    </tr>\n",
       "    <tr>\n",
       "      <th>576</th>\n",
       "      <td>2</td>\n",
       "      <td>2.863274</td>\n",
       "    </tr>\n",
       "    <tr>\n",
       "      <th>548</th>\n",
       "      <td>3</td>\n",
       "      <td>2.811322</td>\n",
       "    </tr>\n",
       "    <tr>\n",
       "      <th>549</th>\n",
       "      <td>4</td>\n",
       "      <td>2.770214</td>\n",
       "    </tr>\n",
       "  </tbody>\n",
       "</table>\n",
       "</div>"
      ],
      "text/plain": [
       "                 Ranking - TF_IDF  Similtud - TF_IDF\n",
       "Id query Id doc                                     \n",
       "1        122                    0           3.022447\n",
       "         206                    1           2.964958\n",
       "         576                    2           2.863274\n",
       "         548                    3           2.811322\n",
       "         549                    4           2.770214"
      ]
     },
     "execution_count": 1,
     "metadata": {},
     "output_type": "execute_result"
    }
   ],
   "source": [
    "import csv\n",
    "import pandas as pd\n",
    "import numpy as np\n",
    "\n",
    "txt_file_tf_idf = r\"TF_IDF.res\"\n",
    "csv_file_tf_idf = r\"TF_IDF.csv\"\n",
    "\n",
    "data_tf_idf = pd.read_csv(txt_file_tf_idf, sep=\" \", header = None, names=[\"Id query\", \"Q\", \"Id doc\", \"Ranking\", \"Similtud\", \"Modelo\"], index_col=[\"Id query\",\"Id doc\"])\n",
    "modelo = data_tf_idf['Modelo'].iloc[0]\n",
    "data_tf_idf.drop(['Q','Modelo'], axis=1, inplace=True)\n",
    "data_tf_idf.columns = [\"Ranking - \"+modelo, \"Similtud - \"+modelo]\n",
    "data_tf_idf.head()"
   ]
  },
  {
   "cell_type": "code",
   "execution_count": 2,
   "metadata": {
    "collapsed": false
   },
   "outputs": [
    {
     "data": {
      "text/html": [
       "<div>\n",
       "<table border=\"1\" class=\"dataframe\">\n",
       "  <thead>\n",
       "    <tr style=\"text-align: right;\">\n",
       "      <th></th>\n",
       "      <th></th>\n",
       "      <th>Ranking - BM25b0.75</th>\n",
       "      <th>Similtud - BM25b0.75</th>\n",
       "    </tr>\n",
       "    <tr>\n",
       "      <th>Id query</th>\n",
       "      <th>Id doc</th>\n",
       "      <th></th>\n",
       "      <th></th>\n",
       "    </tr>\n",
       "  </thead>\n",
       "  <tbody>\n",
       "    <tr>\n",
       "      <th rowspan=\"5\" valign=\"top\">1</th>\n",
       "      <th>122</th>\n",
       "      <td>0</td>\n",
       "      <td>4.428265</td>\n",
       "    </tr>\n",
       "    <tr>\n",
       "      <th>206</th>\n",
       "      <td>1</td>\n",
       "      <td>4.344036</td>\n",
       "    </tr>\n",
       "    <tr>\n",
       "      <th>576</th>\n",
       "      <td>2</td>\n",
       "      <td>4.195057</td>\n",
       "    </tr>\n",
       "    <tr>\n",
       "      <th>548</th>\n",
       "      <td>3</td>\n",
       "      <td>4.118941</td>\n",
       "    </tr>\n",
       "    <tr>\n",
       "      <th>549</th>\n",
       "      <td>4</td>\n",
       "      <td>4.058712</td>\n",
       "    </tr>\n",
       "  </tbody>\n",
       "</table>\n",
       "</div>"
      ],
      "text/plain": [
       "                 Ranking - BM25b0.75  Similtud - BM25b0.75\n",
       "Id query Id doc                                           \n",
       "1        122                       0              4.428265\n",
       "         206                       1              4.344036\n",
       "         576                       2              4.195057\n",
       "         548                       3              4.118941\n",
       "         549                       4              4.058712"
      ]
     },
     "execution_count": 2,
     "metadata": {},
     "output_type": "execute_result"
    }
   ],
   "source": [
    "txt_file_bm25 = r\"BM25.res\"\n",
    "csv_file_bm25 = r\"BM25.csv\"\n",
    "\n",
    "data_bm25 = pd.read_csv(txt_file_bm25, sep=\" \", names=[\"Id query\", \"Q\", \"Id doc\", \"Ranking\", \"Similtud\", \"Modelo\"], index_col=[\"Id query\",\"Id doc\"])\n",
    "modelo = data_bm25['Modelo'].iloc[0]\n",
    "data_bm25.drop(['Q','Modelo'], axis=1, inplace=True)\n",
    "data_bm25.columns = [\"Ranking - \"+modelo, \"Similtud - \"+modelo]\n",
    "data_bm25.head()"
   ]
  },
  {
   "cell_type": "code",
   "execution_count": 3,
   "metadata": {
    "collapsed": false
   },
   "outputs": [],
   "source": [
    "df = pd.concat([data_tf_idf, data_bm25],axis=1,join=\"outer\")\n",
    "\n",
    "# Ordeno por iDQUERY y luego por ranking del primero de los dos modelos\n",
    "df = df.reset_index()\n",
    "df = df.sort_values([\"Id query\",df.columns[2]])\n",
    "df = df.set_index([\"Id query\", \"Id doc\"])\n",
    "df.head()\n",
    "\n",
    "df.to_csv(\"resultados_queries.csv\")"
   ]
  },
  {
   "cell_type": "code",
   "execution_count": 4,
   "metadata": {
    "collapsed": false
   },
   "outputs": [
    {
     "data": {
      "text/html": [
       "<div>\n",
       "<table border=\"1\" class=\"dataframe\">\n",
       "  <thead>\n",
       "    <tr style=\"text-align: right;\">\n",
       "      <th></th>\n",
       "      <th></th>\n",
       "      <th>Ranking - TF_IDF</th>\n",
       "      <th>Ranking - BM25b0.75</th>\n",
       "    </tr>\n",
       "    <tr>\n",
       "      <th>Id query</th>\n",
       "      <th>Id doc</th>\n",
       "      <th></th>\n",
       "      <th></th>\n",
       "    </tr>\n",
       "  </thead>\n",
       "  <tbody>\n",
       "    <tr>\n",
       "      <th rowspan=\"15\" valign=\"top\">1</th>\n",
       "      <th>122</th>\n",
       "      <td>0</td>\n",
       "      <td>0</td>\n",
       "    </tr>\n",
       "    <tr>\n",
       "      <th>206</th>\n",
       "      <td>1</td>\n",
       "      <td>1</td>\n",
       "    </tr>\n",
       "    <tr>\n",
       "      <th>576</th>\n",
       "      <td>2</td>\n",
       "      <td>2</td>\n",
       "    </tr>\n",
       "    <tr>\n",
       "      <th>548</th>\n",
       "      <td>3</td>\n",
       "      <td>3</td>\n",
       "    </tr>\n",
       "    <tr>\n",
       "      <th>549</th>\n",
       "      <td>4</td>\n",
       "      <td>4</td>\n",
       "    </tr>\n",
       "    <tr>\n",
       "      <th>327</th>\n",
       "      <td>5</td>\n",
       "      <td>5</td>\n",
       "    </tr>\n",
       "    <tr>\n",
       "      <th>351</th>\n",
       "      <td>6</td>\n",
       "      <td>6</td>\n",
       "    </tr>\n",
       "    <tr>\n",
       "      <th>317</th>\n",
       "      <td>7</td>\n",
       "      <td>7</td>\n",
       "    </tr>\n",
       "    <tr>\n",
       "      <th>91</th>\n",
       "      <td>8</td>\n",
       "      <td>8</td>\n",
       "    </tr>\n",
       "    <tr>\n",
       "      <th>241</th>\n",
       "      <td>9</td>\n",
       "      <td>9</td>\n",
       "    </tr>\n",
       "    <tr>\n",
       "      <th>569</th>\n",
       "      <td>10</td>\n",
       "      <td>10</td>\n",
       "    </tr>\n",
       "    <tr>\n",
       "      <th>568</th>\n",
       "      <td>11</td>\n",
       "      <td>11</td>\n",
       "    </tr>\n",
       "    <tr>\n",
       "      <th>449</th>\n",
       "      <td>12</td>\n",
       "      <td>12</td>\n",
       "    </tr>\n",
       "    <tr>\n",
       "      <th>257</th>\n",
       "      <td>13</td>\n",
       "      <td>13</td>\n",
       "    </tr>\n",
       "    <tr>\n",
       "      <th>461</th>\n",
       "      <td>14</td>\n",
       "      <td>14</td>\n",
       "    </tr>\n",
       "  </tbody>\n",
       "</table>\n",
       "</div>"
      ],
      "text/plain": [
       "                 Ranking - TF_IDF  Ranking - BM25b0.75\n",
       "Id query Id doc                                       \n",
       "1        122                    0                    0\n",
       "         206                    1                    1\n",
       "         576                    2                    2\n",
       "         548                    3                    3\n",
       "         549                    4                    4\n",
       "         327                    5                    5\n",
       "         351                    6                    6\n",
       "         317                    7                    7\n",
       "         91                     8                    8\n",
       "         241                    9                    9\n",
       "         569                   10                   10\n",
       "         568                   11                   11\n",
       "         449                   12                   12\n",
       "         257                   13                   13\n",
       "         461                   14                   14"
      ]
     },
     "execution_count": 4,
     "metadata": {},
     "output_type": "execute_result"
    }
   ],
   "source": [
    "# Elimino columnas que contienen valor de similtud (no me interesa para clcular spearman)\n",
    "spearman = df.drop(df.columns[[1,3]], axis=1)\n",
    "spearman.head(15)"
   ]
  },
  {
   "cell_type": "code",
   "execution_count": 5,
   "metadata": {
    "collapsed": false
   },
   "outputs": [],
   "source": [
    "def coeficienteSpearman(df):\n",
    "    n = len(df)\n",
    "    df['d'] = df[df.columns[0]] - df[df.columns[1]]\n",
    "    df['d_cuadrado'] = np.power(df['d'],2)\n",
    "    sum_d_cuadrado = sum(df['d_cuadrado']) \n",
    "    resultado = 1 - ( (6.0 * sum_d_cuadrado) / (n * ( np.power(n,2.0) - 1.0 ) ) )\n",
    "    # WARNING: NO ANDA BIEN\n",
    "    #if n > 20:\n",
    "    #    resultado = resultado / np.sqrt( (1.0 - np.power( resultado,2.0 )) / (n - 2.0) )\n",
    "    return resultado \n"
   ]
  },
  {
   "cell_type": "code",
   "execution_count": 6,
   "metadata": {
    "collapsed": false
   },
   "outputs": [
    {
     "name": "stderr",
     "output_type": "stream",
     "text": [
      "/usr/local/lib/python2.7/dist-packages/ipykernel/__main__.py:3: SettingWithCopyWarning: \n",
      "A value is trying to be set on a copy of a slice from a DataFrame.\n",
      "Try using .loc[row_indexer,col_indexer] = value instead\n",
      "\n",
      "See the caveats in the documentation: http://pandas.pydata.org/pandas-docs/stable/indexing.html#indexing-view-versus-copy\n",
      "  app.launch_new_instance()\n",
      "/usr/local/lib/python2.7/dist-packages/ipykernel/__main__.py:4: SettingWithCopyWarning: \n",
      "A value is trying to be set on a copy of a slice from a DataFrame.\n",
      "Try using .loc[row_indexer,col_indexer] = value instead\n",
      "\n",
      "See the caveats in the documentation: http://pandas.pydata.org/pandas-docs/stable/indexing.html#indexing-view-versus-copy\n"
     ]
    },
    {
     "data": {
      "text/html": [
       "<div>\n",
       "<table border=\"1\" class=\"dataframe\">\n",
       "  <thead>\n",
       "    <tr style=\"text-align: right;\">\n",
       "      <th></th>\n",
       "      <th>Coeficiente (n=10)</th>\n",
       "      <th>Coeficiente (n=25)</th>\n",
       "      <th>Coeficiente (n=50)</th>\n",
       "    </tr>\n",
       "    <tr>\n",
       "      <th>Id query</th>\n",
       "      <th></th>\n",
       "      <th></th>\n",
       "      <th></th>\n",
       "    </tr>\n",
       "  </thead>\n",
       "  <tbody>\n",
       "    <tr>\n",
       "      <th>1</th>\n",
       "      <td>1.000000</td>\n",
       "      <td>1.000000</td>\n",
       "      <td>1.000000</td>\n",
       "    </tr>\n",
       "    <tr>\n",
       "      <th>2</th>\n",
       "      <td>-1.484848</td>\n",
       "      <td>0.337308</td>\n",
       "      <td>0.730516</td>\n",
       "    </tr>\n",
       "    <tr>\n",
       "      <th>3</th>\n",
       "      <td>1.000000</td>\n",
       "      <td>1.000000</td>\n",
       "      <td>0.997983</td>\n",
       "    </tr>\n",
       "    <tr>\n",
       "      <th>4</th>\n",
       "      <td>1.000000</td>\n",
       "      <td>1.000000</td>\n",
       "      <td>1.000000</td>\n",
       "    </tr>\n",
       "    <tr>\n",
       "      <th>5</th>\n",
       "      <td>1.000000</td>\n",
       "      <td>1.000000</td>\n",
       "      <td>1.000000</td>\n",
       "    </tr>\n",
       "  </tbody>\n",
       "</table>\n",
       "</div>"
      ],
      "text/plain": [
       "          Coeficiente (n=10)  Coeficiente (n=25)  Coeficiente (n=50)\n",
       "Id query                                                            \n",
       "1                   1.000000            1.000000            1.000000\n",
       "2                  -1.484848            0.337308            0.730516\n",
       "3                   1.000000            1.000000            0.997983\n",
       "4                   1.000000            1.000000            1.000000\n",
       "5                   1.000000            1.000000            1.000000"
      ]
     },
     "execution_count": 6,
     "metadata": {},
     "output_type": "execute_result"
    }
   ],
   "source": [
    "# Creo el data frame resultado en donde muestro el coeficiente obtenido para cada query\n",
    "spearman = spearman.reset_index()\n",
    "df = pd.DataFrame(index=np.arange(min(spearman['Id query']), max(spearman['Id query'])+1), columns=['Coeficiente (n=10)', 'Coeficiente (n=25)', 'Coeficiente (n=50)'], dtype = 'float64')\n",
    "df.index.name = \"Id query\"\n",
    "\n",
    "# A cada index le doy su coeficiente para los primeros 'n' resultados\n",
    "for i in df.index:\n",
    "    \n",
    "    # creo dataframe 'query' con los datos del query con id 'i'\n",
    "    query = spearman[spearman['Id query'] == i]\n",
    "    query = query.drop(\"Id query\", axis=1)\n",
    "    query = query.set_index([\"Id doc\"])\n",
    "    \n",
    "    # Calculo coeficiente\n",
    "    df.loc[i,\"Coeficiente (n=10)\"] = coeficienteSpearman(query.head(n=10)) \n",
    "    df.loc[i,\"Coeficiente (n=25)\"] = coeficienteSpearman(query.head(n=25)) \n",
    "    df.loc[i,\"Coeficiente (n=50)\"] = coeficienteSpearman(query.head(n=50)) \n",
    "\n",
    "# Restauro index \n",
    "spearman = spearman.set_index([\"Id query\", \"Id doc\"])\n",
    "\n",
    "df.head()"
   ]
  },
  {
   "cell_type": "code",
   "execution_count": 7,
   "metadata": {
    "collapsed": false
   },
   "outputs": [],
   "source": [
    "df.to_csv(\"coeficiente_spearman.csv\")"
   ]
  },
  {
   "cell_type": "code",
   "execution_count": null,
   "metadata": {
    "collapsed": true
   },
   "outputs": [],
   "source": []
  },
  {
   "cell_type": "code",
   "execution_count": null,
   "metadata": {
    "collapsed": true
   },
   "outputs": [],
   "source": []
  }
 ],
 "metadata": {
  "kernelspec": {
   "display_name": "Python 2",
   "language": "python",
   "name": "python2"
  },
  "language_info": {
   "codemirror_mode": {
    "name": "ipython",
    "version": 2
   },
   "file_extension": ".py",
   "mimetype": "text/x-python",
   "name": "python",
   "nbconvert_exporter": "python",
   "pygments_lexer": "ipython2",
   "version": "2.7.6"
  }
 },
 "nbformat": 4,
 "nbformat_minor": 0
}
