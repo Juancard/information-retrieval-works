{
 "cells": [
  {
   "cell_type": "code",
   "execution_count": 2,
   "metadata": {
    "collapsed": false
   },
   "outputs": [],
   "source": [
    "# -*- coding: utf-8 -*-\n",
    "import sys\n",
    "import os\n",
    "import unicodedata\n",
    "import string\n",
    "import urllib2\n",
    "\n",
    "import numpy as np\n",
    "import pandas as pd\n",
    "\n",
    "# Agrego al path la carpeta modulos\n",
    "sys.path.insert(0, os.path.abspath(\"../../modulos\"))\n",
    "from LexAnalyser import LexAnalyser"
   ]
  },
  {
   "cell_type": "code",
   "execution_count": 3,
   "metadata": {
    "collapsed": false
   },
   "outputs": [
    {
     "name": "stdout",
     "output_type": "stream",
     "text": [
      "2178990\n"
     ]
    }
   ],
   "source": [
    "url = 'http://www.gutenberg.org/cache/epub/2000/pg2000.txt'\n",
    "response = urllib2.urlopen(url)\n",
    "raw = response.read()\n",
    "start = raw.find('El ingenioso hidalgo don Quijote de la Mancha')\n",
    "end = raw.rfind('End of Project Gutenberg')\n",
    "raw = raw[start:end]\n",
    "print len(raw)"
   ]
  },
  {
   "cell_type": "code",
   "execution_count": 15,
   "metadata": {
    "collapsed": false
   },
   "outputs": [
    {
     "name": "stdout",
     "output_type": "stream",
     "text": [
      "Vocabulario (extract) [{u'consuelome': 1}, {u'canes': 3}, {u'igual': 16}, {u'indignacion': 2}, {u'hermana': 11}, {u'hermano': 106}, {u'gastara': 1}, {u'acababamos': 1}, {u'dictado': 1}, {u'compuesta': 11}]\n",
      "Cantidad de terminos:  381215\n"
     ]
    }
   ],
   "source": [
    "vocabulario = {}\n",
    "la = LexAnalyser({})\n",
    "terms = la.analyse(raw.decode(\"UTF-8\"))[\"terms\"]\n",
    "for t in terms:\n",
    "    if t not in vocabulario:\n",
    "        vocabulario[t] = 1\n",
    "    else:\n",
    "        vocabulario[t] += 1\n",
    "print \"Vocabulario (extracto)\", [{key: val} for key, val in vocabulario.items()[:10]]\n",
    "print \"Cantidad de terminos: \", len(terms)"
   ]
  },
  {
   "cell_type": "code",
   "execution_count": 7,
   "metadata": {
    "collapsed": false
   },
   "outputs": [
    {
     "data": {
      "text/html": [
       "<div>\n",
       "<table border=\"1\" class=\"dataframe\">\n",
       "  <thead>\n",
       "    <tr style=\"text-align: right;\">\n",
       "      <th></th>\n",
       "      <th>Frecuencia</th>\n",
       "      <th>Ranking</th>\n",
       "      <th>C=F*R</th>\n",
       "    </tr>\n",
       "  </thead>\n",
       "  <tbody>\n",
       "    <tr>\n",
       "      <th>que</th>\n",
       "      <td>21475.0</td>\n",
       "      <td>1.0</td>\n",
       "      <td>21475.0</td>\n",
       "    </tr>\n",
       "    <tr>\n",
       "      <th>de</th>\n",
       "      <td>18298.0</td>\n",
       "      <td>2.0</td>\n",
       "      <td>36596.0</td>\n",
       "    </tr>\n",
       "    <tr>\n",
       "      <th>y</th>\n",
       "      <td>18188.0</td>\n",
       "      <td>3.0</td>\n",
       "      <td>54564.0</td>\n",
       "    </tr>\n",
       "    <tr>\n",
       "      <th>la</th>\n",
       "      <td>10363.0</td>\n",
       "      <td>4.0</td>\n",
       "      <td>41452.0</td>\n",
       "    </tr>\n",
       "    <tr>\n",
       "      <th>a</th>\n",
       "      <td>9823.0</td>\n",
       "      <td>5.0</td>\n",
       "      <td>49115.0</td>\n",
       "    </tr>\n",
       "  </tbody>\n",
       "</table>\n",
       "</div>"
      ],
      "text/plain": [
       "     Frecuencia  Ranking    C=F*R\n",
       "que     21475.0      1.0  21475.0\n",
       "de      18298.0      2.0  36596.0\n",
       "y       18188.0      3.0  54564.0\n",
       "la      10363.0      4.0  41452.0\n",
       "a        9823.0      5.0  49115.0"
      ]
     },
     "execution_count": 7,
     "metadata": {},
     "output_type": "execute_result"
    }
   ],
   "source": [
    "df = pd.DataFrame(index = vocabulario.keys(),\n",
    "                  columns = ['Frecuencia','Ranking','C=F*R'],\n",
    "                  dtype = 'float64')\n",
    "\n",
    "for a in df.index:\n",
    "    df.loc[a,'Frecuencia'] = vocabulario[a]\n",
    "\n",
    "df['Ranking'] = df['Frecuencia'].rank(method = 'min', ascending = False)\n",
    "\n",
    "df['C=F*R'] = df['Frecuencia'] * df['Ranking']\n",
    "\n",
    "df.sort_values(['Frecuencia'], ascending=False).head()"
   ]
  },
  {
   "cell_type": "code",
   "execution_count": 8,
   "metadata": {
    "collapsed": false
   },
   "outputs": [
    {
     "data": {
      "text/html": [
       "<div>\n",
       "<table border=\"1\" class=\"dataframe\">\n",
       "  <thead>\n",
       "    <tr style=\"text-align: right;\">\n",
       "      <th></th>\n",
       "      <th>Frecuencia</th>\n",
       "      <th>Ranking</th>\n",
       "      <th>C=F*R</th>\n",
       "      <th>Frec. Acum.</th>\n",
       "      <th>Frec. Rel.</th>\n",
       "      <th>Frec. Rel. Acum.</th>\n",
       "    </tr>\n",
       "  </thead>\n",
       "  <tbody>\n",
       "    <tr>\n",
       "      <th>que</th>\n",
       "      <td>21475.0</td>\n",
       "      <td>1.0</td>\n",
       "      <td>21475.0</td>\n",
       "      <td>21475.0</td>\n",
       "      <td>0.056333</td>\n",
       "      <td>0.056333</td>\n",
       "    </tr>\n",
       "    <tr>\n",
       "      <th>de</th>\n",
       "      <td>18298.0</td>\n",
       "      <td>2.0</td>\n",
       "      <td>36596.0</td>\n",
       "      <td>39773.0</td>\n",
       "      <td>0.047999</td>\n",
       "      <td>0.104332</td>\n",
       "    </tr>\n",
       "    <tr>\n",
       "      <th>y</th>\n",
       "      <td>18188.0</td>\n",
       "      <td>3.0</td>\n",
       "      <td>54564.0</td>\n",
       "      <td>57961.0</td>\n",
       "      <td>0.047711</td>\n",
       "      <td>0.152043</td>\n",
       "    </tr>\n",
       "    <tr>\n",
       "      <th>la</th>\n",
       "      <td>10363.0</td>\n",
       "      <td>4.0</td>\n",
       "      <td>41452.0</td>\n",
       "      <td>68324.0</td>\n",
       "      <td>0.027184</td>\n",
       "      <td>0.179227</td>\n",
       "    </tr>\n",
       "    <tr>\n",
       "      <th>a</th>\n",
       "      <td>9823.0</td>\n",
       "      <td>5.0</td>\n",
       "      <td>49115.0</td>\n",
       "      <td>78147.0</td>\n",
       "      <td>0.025768</td>\n",
       "      <td>0.204995</td>\n",
       "    </tr>\n",
       "  </tbody>\n",
       "</table>\n",
       "</div>"
      ],
      "text/plain": [
       "     Frecuencia  Ranking    C=F*R  Frec. Acum.  Frec. Rel.  Frec. Rel. Acum.\n",
       "que     21475.0      1.0  21475.0      21475.0    0.056333          0.056333\n",
       "de      18298.0      2.0  36596.0      39773.0    0.047999          0.104332\n",
       "y       18188.0      3.0  54564.0      57961.0    0.047711          0.152043\n",
       "la      10363.0      4.0  41452.0      68324.0    0.027184          0.179227\n",
       "a        9823.0      5.0  49115.0      78147.0    0.025768          0.204995"
      ]
     },
     "execution_count": 8,
     "metadata": {},
     "output_type": "execute_result"
    }
   ],
   "source": [
    "# Agrego alguna data extra \n",
    "n = df['Frecuencia'].sum()\n",
    "df['Frec. Acum.'] = df['Frecuencia'].sort_values(ascending=False).cumsum()\n",
    "df['Frec. Rel.'] = df['Frecuencia'] / n\n",
    "df['Frec. Rel. Acum.'] = df['Frec. Acum.'] / n\n",
    "df.sort_values(['Frecuencia'], ascending=False).head()"
   ]
  },
  {
   "cell_type": "code",
   "execution_count": 9,
   "metadata": {
    "collapsed": false
   },
   "outputs": [
    {
     "data": {
      "text/html": [
       "<div>\n",
       "<table border=\"1\" class=\"dataframe\">\n",
       "  <thead>\n",
       "    <tr style=\"text-align: right;\">\n",
       "      <th></th>\n",
       "      <th>Frecuencia</th>\n",
       "      <th>Ranking</th>\n",
       "      <th>C=F*R</th>\n",
       "      <th>Frec. Acum.</th>\n",
       "      <th>Frec. Rel.</th>\n",
       "      <th>Frec. Rel. Acum.</th>\n",
       "    </tr>\n",
       "  </thead>\n",
       "  <tbody>\n",
       "    <tr>\n",
       "      <th>guardese</th>\n",
       "      <td>4.0</td>\n",
       "      <td>5270.0</td>\n",
       "      <td>21080.0</td>\n",
       "      <td>353749.0</td>\n",
       "      <td>0.00001</td>\n",
       "      <td>0.927951</td>\n",
       "    </tr>\n",
       "    <tr>\n",
       "      <th>vituperio</th>\n",
       "      <td>4.0</td>\n",
       "      <td>5270.0</td>\n",
       "      <td>21080.0</td>\n",
       "      <td>353753.0</td>\n",
       "      <td>0.00001</td>\n",
       "      <td>0.927962</td>\n",
       "    </tr>\n",
       "    <tr>\n",
       "      <th>viedma</th>\n",
       "      <td>4.0</td>\n",
       "      <td>5270.0</td>\n",
       "      <td>21080.0</td>\n",
       "      <td>353757.0</td>\n",
       "      <td>0.00001</td>\n",
       "      <td>0.927972</td>\n",
       "    </tr>\n",
       "    <tr>\n",
       "      <th>proezas</th>\n",
       "      <td>4.0</td>\n",
       "      <td>5270.0</td>\n",
       "      <td>21080.0</td>\n",
       "      <td>353761.0</td>\n",
       "      <td>0.00001</td>\n",
       "      <td>0.927983</td>\n",
       "    </tr>\n",
       "    <tr>\n",
       "      <th>endereza</th>\n",
       "      <td>4.0</td>\n",
       "      <td>5270.0</td>\n",
       "      <td>21080.0</td>\n",
       "      <td>353765.0</td>\n",
       "      <td>0.00001</td>\n",
       "      <td>0.927993</td>\n",
       "    </tr>\n",
       "  </tbody>\n",
       "</table>\n",
       "</div>"
      ],
      "text/plain": [
       "           Frecuencia  Ranking    C=F*R  Frec. Acum.  Frec. Rel.  \\\n",
       "guardese          4.0   5270.0  21080.0     353749.0     0.00001   \n",
       "vituperio         4.0   5270.0  21080.0     353753.0     0.00001   \n",
       "viedma            4.0   5270.0  21080.0     353757.0     0.00001   \n",
       "proezas           4.0   5270.0  21080.0     353761.0     0.00001   \n",
       "endereza          4.0   5270.0  21080.0     353765.0     0.00001   \n",
       "\n",
       "           Frec. Rel. Acum.  \n",
       "guardese           0.927951  \n",
       "vituperio          0.927962  \n",
       "viedma             0.927972  \n",
       "proezas            0.927983  \n",
       "endereza           0.927993  "
      ]
     },
     "execution_count": 9,
     "metadata": {},
     "output_type": "execute_result"
    }
   ],
   "source": [
    "# Selecciono solo aquella data que tiene frecuencia < 5\n",
    "df_menor_5 = df[(df['Frecuencia'] < 5.0)]\n",
    "df_menor_5.sort_values(['Frec. Acum.'], ascending=True).to_csv('extras/quijote_frecuencia_menor_5.csv')\n",
    "df_menor_5.sort_values(['Frec. Acum.'], ascending=True).head()"
   ]
  },
  {
   "cell_type": "code",
   "execution_count": 10,
   "metadata": {
    "collapsed": false
   },
   "outputs": [
    {
     "name": "stdout",
     "output_type": "stream",
     "text": [
      "Quitando del índice aquellos terminos cuya frecuencia es menor que 5 se omite el 7.20 por ciento del total de términos\n"
     ]
    }
   ],
   "source": [
    "porcentaje_omitido = (1 - df_menor_5[\"Frec. Rel. Acum.\"].min()) * 100\n",
    "print \"Quitando del índice aquellos terminos cuya frecuencia es menor que 5 se omite el %.2f por ciento del total de términos\" % porcentaje_omitido"
   ]
  },
  {
   "cell_type": "code",
   "execution_count": 43,
   "metadata": {
    "collapsed": false
   },
   "outputs": [
    {
     "data": {
      "text/html": [
       "<div>\n",
       "<table border=\"1\" class=\"dataframe\">\n",
       "  <thead>\n",
       "    <tr style=\"text-align: right;\">\n",
       "      <th></th>\n",
       "      <th>Frecuencia</th>\n",
       "      <th>Ranking</th>\n",
       "      <th>C=F*R</th>\n",
       "      <th>Frec. Acum.</th>\n",
       "      <th>Frec. Rel.</th>\n",
       "      <th>Frec. Rel. Acum.</th>\n",
       "    </tr>\n",
       "  </thead>\n",
       "  <tbody>\n",
       "    <tr>\n",
       "      <th>tras</th>\n",
       "      <td>83.0</td>\n",
       "      <td>460.0</td>\n",
       "      <td>38180.0</td>\n",
       "      <td>275479.0</td>\n",
       "      <td>0.000218</td>\n",
       "      <td>0.722634</td>\n",
       "    </tr>\n",
       "    <tr>\n",
       "      <th>nuevas</th>\n",
       "      <td>83.0</td>\n",
       "      <td>460.0</td>\n",
       "      <td>38180.0</td>\n",
       "      <td>275562.0</td>\n",
       "      <td>0.000218</td>\n",
       "      <td>0.722852</td>\n",
       "    </tr>\n",
       "    <tr>\n",
       "      <th>pueden</th>\n",
       "      <td>83.0</td>\n",
       "      <td>460.0</td>\n",
       "      <td>38180.0</td>\n",
       "      <td>275645.0</td>\n",
       "      <td>0.000218</td>\n",
       "      <td>0.723070</td>\n",
       "    </tr>\n",
       "    <tr>\n",
       "      <th>ti</th>\n",
       "      <td>82.0</td>\n",
       "      <td>463.0</td>\n",
       "      <td>37966.0</td>\n",
       "      <td>275727.0</td>\n",
       "      <td>0.000215</td>\n",
       "      <td>0.723285</td>\n",
       "    </tr>\n",
       "    <tr>\n",
       "      <th>sazon</th>\n",
       "      <td>82.0</td>\n",
       "      <td>463.0</td>\n",
       "      <td>37966.0</td>\n",
       "      <td>275809.0</td>\n",
       "      <td>0.000215</td>\n",
       "      <td>0.723500</td>\n",
       "    </tr>\n",
       "  </tbody>\n",
       "</table>\n",
       "</div>"
      ],
      "text/plain": [
       "        Frecuencia  Ranking    C=F*R  Frec. Acum.  Frec. Rel.  \\\n",
       "tras          83.0    460.0  38180.0     275479.0    0.000218   \n",
       "nuevas        83.0    460.0  38180.0     275562.0    0.000218   \n",
       "pueden        83.0    460.0  38180.0     275645.0    0.000218   \n",
       "ti            82.0    463.0  37966.0     275727.0    0.000215   \n",
       "sazon         82.0    463.0  37966.0     275809.0    0.000215   \n",
       "\n",
       "        Frec. Rel. Acum.  \n",
       "tras            0.722634  \n",
       "nuevas          0.722852  \n",
       "pueden          0.723070  \n",
       "ti              0.723285  \n",
       "sazon           0.723500  "
      ]
     },
     "execution_count": 43,
     "metadata": {},
     "output_type": "execute_result"
    }
   ],
   "source": [
    "# PROPORCION SEGUN ZIPF\n",
    "constante = df['C=F*R'].mean()\n",
    "#constante = df[df['Frecuencia'] == frecuencia][\"C=F*R\"].mean()\n",
    "frecuencia = 4.0\n",
    "beta = -np.polyfit(np.log(df['Ranking']), np.log(df['Frecuencia']), deg = 1)[0]\n",
    "\n",
    "# Se resuelve siguiente ecuacion:\n",
    "# ranking = (frecuencia * constante) ^ 1/beta\n",
    "f_por_c = constante * frecuencia\n",
    "raiz_beta = 1 / beta\n",
    "ranking = np.power(f_por_c, raiz_beta)\n",
    "\n",
    "df_zipf = df[df['Ranking'] >= ranking]\n",
    "df_zipf.sort_values(['Frec. Acum.'], ascending=True).head()\n",
    "\n",
    "# OTRA FORMULA: Ranking(frecuancia) = beta * cantidad_terminos_repetidos / frecuencia\n",
    "#r = beta * (len(terms) / frecuencia)\n",
    "#print r\n",
    "#df_zipf = df[df['Ranking'] >= r]\n",
    "#df_zipf.sort_values(['Frec. Acum.'], ascending=True).head()"
   ]
  },
  {
   "cell_type": "code",
   "execution_count": 19,
   "metadata": {
    "collapsed": false
   },
   "outputs": [
    {
     "name": "stdout",
     "output_type": "stream",
     "text": [
      "Segun Zipf se omite el 11.12 por ciento del total de términos\n"
     ]
    }
   ],
   "source": [
    "porcentaje_omitido = (1 - df_zipf[\"Frec. Rel. Acum.\"].min()) * 100\n",
    "print \"Segun Zipf se omite el %.2f por ciento del total de términos\" % porcentaje_omitido"
   ]
  },
  {
   "cell_type": "code",
   "execution_count": 20,
   "metadata": {
    "collapsed": false
   },
   "outputs": [
    {
     "name": "stdout",
     "output_type": "stream",
     "text": [
      "0.10916656585\n"
     ]
    }
   ],
   "source": [
    "# PROPORCION SEGUN ZIPF\n",
    "constante = df['C=F*R'].mean()\n",
    "ranking = 5270\n",
    "beta = -np.polyfit(np.log(df['Ranking']), np.log(df['Frecuencia']), deg = 1)[0]\n",
    "\n",
    "# Se resuelve siguiente ecuacion:\n",
    "# frecuencia =  constante / (ranking ^ beta) \n",
    "frecuencia = constante / np.power(ranking, beta)\n",
    "print frecuencia"
   ]
  },
  {
   "cell_type": "code",
   "execution_count": null,
   "metadata": {
    "collapsed": true
   },
   "outputs": [],
   "source": []
  },
  {
   "cell_type": "code",
   "execution_count": null,
   "metadata": {
    "collapsed": true
   },
   "outputs": [],
   "source": []
  }
 ],
 "metadata": {
  "kernelspec": {
   "display_name": "Python 2",
   "language": "python",
   "name": "python2"
  },
  "language_info": {
   "codemirror_mode": {
    "name": "ipython",
    "version": 2
   },
   "file_extension": ".py",
   "mimetype": "text/x-python",
   "name": "python",
   "nbconvert_exporter": "python",
   "pygments_lexer": "ipython2",
   "version": "2.7.6"
  }
 },
 "nbformat": 4,
 "nbformat_minor": 0
}
