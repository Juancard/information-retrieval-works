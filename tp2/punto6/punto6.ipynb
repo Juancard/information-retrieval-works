{
 "cells": [
  {
   "cell_type": "code",
   "execution_count": 1,
   "metadata": {
    "collapsed": false
   },
   "outputs": [],
   "source": [
    "# -*- coding: utf-8 -*-\n",
    "import sys\n",
    "import os\n",
    "import unicodedata\n",
    "import string\n",
    "import urllib2\n",
    "\n",
    "import numpy as np\n",
    "import pandas as pd\n",
    "from matplotlib import pyplot as plt\n",
    "\n",
    "# Agrego al path la carpeta modulos\n",
    "sys.path.insert(0, os.path.abspath(\"../../modulos\"))\n",
    "from LexAnalyser import LexAnalyser"
   ]
  },
  {
   "cell_type": "code",
   "execution_count": 2,
   "metadata": {
    "collapsed": false
   },
   "outputs": [
    {
     "name": "stdout",
     "output_type": "stream",
     "text": [
      "2178990\n"
     ]
    }
   ],
   "source": [
    "url = 'http://www.gutenberg.org/cache/epub/2000/pg2000.txt'\n",
    "response = urllib2.urlopen(url)\n",
    "raw = response.read()\n",
    "start = raw.find('El ingenioso hidalgo don Quijote de la Mancha')\n",
    "end = raw.rfind('End of Project Gutenberg')\n",
    "raw = raw[start:end]\n",
    "print len(raw)"
   ]
  },
  {
   "cell_type": "code",
   "execution_count": 3,
   "metadata": {
    "collapsed": false
   },
   "outputs": [
    {
     "name": "stdout",
     "output_type": "stream",
     "text": [
      "Vocabulario (extracto) [{u'consuelome': 1}, {u'canes': 3}, {u'igual': 16}, {u'indignacion': 2}, {u'hermana': 11}, {u'hermano': 106}, {u'gastara': 1}, {u'acababamos': 1}, {u'dictado': 1}, {u'compuesta': 11}]\n",
      "Cantidad de terminos:  381215\n"
     ]
    }
   ],
   "source": [
    "vocabulario = {}\n",
    "la = LexAnalyser({})\n",
    "terms = la.analyse(raw.decode(\"UTF-8\"))[\"terms\"]\n",
    "for t in terms:\n",
    "    if t not in vocabulario:\n",
    "        vocabulario[t] = 0\n",
    "    vocabulario[t] += 1\n",
    "print \"Vocabulario (extracto)\", [{key: val} for key, val in vocabulario.items()[:10]]\n",
    "print \"Cantidad de terminos: \", len(terms)"
   ]
  },
  {
   "cell_type": "code",
   "execution_count": 4,
   "metadata": {
    "collapsed": false
   },
   "outputs": [
    {
     "data": {
      "text/html": [
       "<div>\n",
       "<table border=\"1\" class=\"dataframe\">\n",
       "  <thead>\n",
       "    <tr style=\"text-align: right;\">\n",
       "      <th></th>\n",
       "      <th>Frecuencia</th>\n",
       "      <th>Ranking</th>\n",
       "      <th>C=F*R</th>\n",
       "    </tr>\n",
       "    <tr>\n",
       "      <th>Termino</th>\n",
       "      <th></th>\n",
       "      <th></th>\n",
       "      <th></th>\n",
       "    </tr>\n",
       "  </thead>\n",
       "  <tbody>\n",
       "    <tr>\n",
       "      <th>que</th>\n",
       "      <td>21475</td>\n",
       "      <td>1.0</td>\n",
       "      <td>21475.0</td>\n",
       "    </tr>\n",
       "    <tr>\n",
       "      <th>de</th>\n",
       "      <td>18298</td>\n",
       "      <td>2.0</td>\n",
       "      <td>36596.0</td>\n",
       "    </tr>\n",
       "    <tr>\n",
       "      <th>y</th>\n",
       "      <td>18188</td>\n",
       "      <td>3.0</td>\n",
       "      <td>54564.0</td>\n",
       "    </tr>\n",
       "    <tr>\n",
       "      <th>la</th>\n",
       "      <td>10363</td>\n",
       "      <td>4.0</td>\n",
       "      <td>41452.0</td>\n",
       "    </tr>\n",
       "    <tr>\n",
       "      <th>a</th>\n",
       "      <td>9823</td>\n",
       "      <td>5.0</td>\n",
       "      <td>49115.0</td>\n",
       "    </tr>\n",
       "  </tbody>\n",
       "</table>\n",
       "</div>"
      ],
      "text/plain": [
       "         Frecuencia  Ranking    C=F*R\n",
       "Termino                              \n",
       "que           21475      1.0  21475.0\n",
       "de            18298      2.0  36596.0\n",
       "y             18188      3.0  54564.0\n",
       "la            10363      4.0  41452.0\n",
       "a              9823      5.0  49115.0"
      ]
     },
     "execution_count": 4,
     "metadata": {},
     "output_type": "execute_result"
    }
   ],
   "source": [
    "df = pd.DataFrame(vocabulario.items(), \n",
    "                  columns = ['Termino','Frecuencia'])\n",
    "df.set_index('Termino', inplace = True)\n",
    "\n",
    "df['Ranking'] = df['Frecuencia'].rank(method = 'min', ascending = False)\n",
    "df['C=F*R'] = df['Frecuencia'] * df['Ranking']\n",
    "\n",
    "df.sort_values(['Frecuencia'], ascending=False, inplace=True)\n",
    "\n",
    "df.head()"
   ]
  },
  {
   "cell_type": "code",
   "execution_count": 5,
   "metadata": {
    "collapsed": false
   },
   "outputs": [
    {
     "data": {
      "text/html": [
       "<div>\n",
       "<table border=\"1\" class=\"dataframe\">\n",
       "  <thead>\n",
       "    <tr style=\"text-align: right;\">\n",
       "      <th></th>\n",
       "      <th>Frecuencia</th>\n",
       "      <th>Ranking</th>\n",
       "      <th>C=F*R</th>\n",
       "      <th>Frec. Acum.</th>\n",
       "      <th>Frec. Rel.</th>\n",
       "      <th>Frec. Rel. Acum.</th>\n",
       "    </tr>\n",
       "    <tr>\n",
       "      <th>Termino</th>\n",
       "      <th></th>\n",
       "      <th></th>\n",
       "      <th></th>\n",
       "      <th></th>\n",
       "      <th></th>\n",
       "      <th></th>\n",
       "    </tr>\n",
       "  </thead>\n",
       "  <tbody>\n",
       "    <tr>\n",
       "      <th>que</th>\n",
       "      <td>21475</td>\n",
       "      <td>1.0</td>\n",
       "      <td>21475.0</td>\n",
       "      <td>21475</td>\n",
       "      <td>0.056333</td>\n",
       "      <td>0.056333</td>\n",
       "    </tr>\n",
       "    <tr>\n",
       "      <th>de</th>\n",
       "      <td>18298</td>\n",
       "      <td>2.0</td>\n",
       "      <td>36596.0</td>\n",
       "      <td>39773</td>\n",
       "      <td>0.047999</td>\n",
       "      <td>0.104332</td>\n",
       "    </tr>\n",
       "    <tr>\n",
       "      <th>y</th>\n",
       "      <td>18188</td>\n",
       "      <td>3.0</td>\n",
       "      <td>54564.0</td>\n",
       "      <td>57961</td>\n",
       "      <td>0.047711</td>\n",
       "      <td>0.152043</td>\n",
       "    </tr>\n",
       "    <tr>\n",
       "      <th>la</th>\n",
       "      <td>10363</td>\n",
       "      <td>4.0</td>\n",
       "      <td>41452.0</td>\n",
       "      <td>68324</td>\n",
       "      <td>0.027184</td>\n",
       "      <td>0.179227</td>\n",
       "    </tr>\n",
       "    <tr>\n",
       "      <th>a</th>\n",
       "      <td>9823</td>\n",
       "      <td>5.0</td>\n",
       "      <td>49115.0</td>\n",
       "      <td>78147</td>\n",
       "      <td>0.025768</td>\n",
       "      <td>0.204995</td>\n",
       "    </tr>\n",
       "  </tbody>\n",
       "</table>\n",
       "</div>"
      ],
      "text/plain": [
       "         Frecuencia  Ranking    C=F*R  Frec. Acum.  Frec. Rel.  \\\n",
       "Termino                                                          \n",
       "que           21475      1.0  21475.0        21475    0.056333   \n",
       "de            18298      2.0  36596.0        39773    0.047999   \n",
       "y             18188      3.0  54564.0        57961    0.047711   \n",
       "la            10363      4.0  41452.0        68324    0.027184   \n",
       "a              9823      5.0  49115.0        78147    0.025768   \n",
       "\n",
       "         Frec. Rel. Acum.  \n",
       "Termino                    \n",
       "que              0.056333  \n",
       "de               0.104332  \n",
       "y                0.152043  \n",
       "la               0.179227  \n",
       "a                0.204995  "
      ]
     },
     "execution_count": 5,
     "metadata": {},
     "output_type": "execute_result"
    }
   ],
   "source": [
    "# Agrego alguna data extra \n",
    "n = df['Frecuencia'].sum()\n",
    "df['Frec. Acum.'] = df['Frecuencia'].cumsum()\n",
    "df['Frec. Rel.'] = df['Frecuencia'] / n\n",
    "df['Frec. Rel. Acum.'] = df['Frec. Acum.'] / n\n",
    "df.head()"
   ]
  },
  {
   "cell_type": "code",
   "execution_count": 6,
   "metadata": {
    "collapsed": false
   },
   "outputs": [
    {
     "data": {
      "text/html": [
       "<div>\n",
       "<table border=\"1\" class=\"dataframe\">\n",
       "  <thead>\n",
       "    <tr style=\"text-align: right;\">\n",
       "      <th></th>\n",
       "      <th>Frecuencia</th>\n",
       "      <th>Ranking</th>\n",
       "      <th>C=F*R</th>\n",
       "      <th>Frec. Acum.</th>\n",
       "      <th>Frec. Rel.</th>\n",
       "      <th>Frec. Rel. Acum.</th>\n",
       "    </tr>\n",
       "    <tr>\n",
       "      <th>Termino</th>\n",
       "      <th></th>\n",
       "      <th></th>\n",
       "      <th></th>\n",
       "      <th></th>\n",
       "      <th></th>\n",
       "      <th></th>\n",
       "    </tr>\n",
       "  </thead>\n",
       "  <tbody>\n",
       "    <tr>\n",
       "      <th>item</th>\n",
       "      <td>4</td>\n",
       "      <td>5270.0</td>\n",
       "      <td>21080.0</td>\n",
       "      <td>353749</td>\n",
       "      <td>0.00001</td>\n",
       "      <td>0.927951</td>\n",
       "    </tr>\n",
       "    <tr>\n",
       "      <th>importunidades</th>\n",
       "      <td>4</td>\n",
       "      <td>5270.0</td>\n",
       "      <td>21080.0</td>\n",
       "      <td>353753</td>\n",
       "      <td>0.00001</td>\n",
       "      <td>0.927962</td>\n",
       "    </tr>\n",
       "    <tr>\n",
       "      <th>valentisimo</th>\n",
       "      <td>4</td>\n",
       "      <td>5270.0</td>\n",
       "      <td>21080.0</td>\n",
       "      <td>353757</td>\n",
       "      <td>0.00001</td>\n",
       "      <td>0.927972</td>\n",
       "    </tr>\n",
       "    <tr>\n",
       "      <th>ijadas</th>\n",
       "      <td>4</td>\n",
       "      <td>5270.0</td>\n",
       "      <td>21080.0</td>\n",
       "      <td>353761</td>\n",
       "      <td>0.00001</td>\n",
       "      <td>0.927983</td>\n",
       "    </tr>\n",
       "    <tr>\n",
       "      <th>obrar</th>\n",
       "      <td>4</td>\n",
       "      <td>5270.0</td>\n",
       "      <td>21080.0</td>\n",
       "      <td>353765</td>\n",
       "      <td>0.00001</td>\n",
       "      <td>0.927993</td>\n",
       "    </tr>\n",
       "  </tbody>\n",
       "</table>\n",
       "</div>"
      ],
      "text/plain": [
       "                Frecuencia  Ranking    C=F*R  Frec. Acum.  Frec. Rel.  \\\n",
       "Termino                                                                 \n",
       "item                     4   5270.0  21080.0       353749     0.00001   \n",
       "importunidades           4   5270.0  21080.0       353753     0.00001   \n",
       "valentisimo              4   5270.0  21080.0       353757     0.00001   \n",
       "ijadas                   4   5270.0  21080.0       353761     0.00001   \n",
       "obrar                    4   5270.0  21080.0       353765     0.00001   \n",
       "\n",
       "                Frec. Rel. Acum.  \n",
       "Termino                           \n",
       "item                    0.927951  \n",
       "importunidades          0.927962  \n",
       "valentisimo             0.927972  \n",
       "ijadas                  0.927983  \n",
       "obrar                   0.927993  "
      ]
     },
     "execution_count": 6,
     "metadata": {},
     "output_type": "execute_result"
    }
   ],
   "source": [
    "# Selecciono solo aquella data que tiene frecuencia < 5\n",
    "df_menor_5 = df[(df['Frecuencia'] < 5.0)]\n",
    "df_menor_5.to_csv('extras/quijote_frecuencia_menor_5.csv')\n",
    "df_menor_5.head()"
   ]
  },
  {
   "cell_type": "code",
   "execution_count": 11,
   "metadata": {
    "collapsed": false
   },
   "outputs": [
    {
     "name": "stdout",
     "output_type": "stream",
     "text": [
      "Quitando del índice aquellos terminos cuya frecuencia es menor que 5 se omite el 7.20 por ciento del total de términos\n"
     ]
    }
   ],
   "source": [
    "porcentaje_omitido = (1 - df_menor_5[\"Frec. Rel. Acum.\"].min()) * 100\n",
    "print \"Quitando del índice aquellos terminos cuya frecuencia es menor que 5 se omite el %.2f por ciento del total de términos\" % porcentaje_omitido"
   ]
  },
  {
   "cell_type": "code",
   "execution_count": 92,
   "metadata": {
    "collapsed": false
   },
   "outputs": [
    {
     "data": {
      "text/html": [
       "<div>\n",
       "<table border=\"1\" class=\"dataframe\">\n",
       "  <thead>\n",
       "    <tr style=\"text-align: right;\">\n",
       "      <th></th>\n",
       "      <th>Frecuencia</th>\n",
       "      <th>Ranking</th>\n",
       "      <th>C=F*R</th>\n",
       "      <th>Frec. Acum.</th>\n",
       "      <th>Frec. Rel.</th>\n",
       "      <th>Frec. Rel. Acum.</th>\n",
       "    </tr>\n",
       "    <tr>\n",
       "      <th>Termino</th>\n",
       "      <th></th>\n",
       "      <th></th>\n",
       "      <th></th>\n",
       "      <th></th>\n",
       "      <th></th>\n",
       "      <th></th>\n",
       "    </tr>\n",
       "  </thead>\n",
       "  <tbody>\n",
       "    <tr>\n",
       "      <th>estiende</th>\n",
       "      <td>6</td>\n",
       "      <td>3969.0</td>\n",
       "      <td>23814.0</td>\n",
       "      <td>346706</td>\n",
       "      <td>0.000016</td>\n",
       "      <td>0.909476</td>\n",
       "    </tr>\n",
       "    <tr>\n",
       "      <th>soberbios</th>\n",
       "      <td>6</td>\n",
       "      <td>3969.0</td>\n",
       "      <td>23814.0</td>\n",
       "      <td>346712</td>\n",
       "      <td>0.000016</td>\n",
       "      <td>0.909492</td>\n",
       "    </tr>\n",
       "    <tr>\n",
       "      <th>juzgue</th>\n",
       "      <td>6</td>\n",
       "      <td>3969.0</td>\n",
       "      <td>23814.0</td>\n",
       "      <td>346718</td>\n",
       "      <td>0.000016</td>\n",
       "      <td>0.909508</td>\n",
       "    </tr>\n",
       "    <tr>\n",
       "      <th>seca</th>\n",
       "      <td>6</td>\n",
       "      <td>3969.0</td>\n",
       "      <td>23814.0</td>\n",
       "      <td>346724</td>\n",
       "      <td>0.000016</td>\n",
       "      <td>0.909523</td>\n",
       "    </tr>\n",
       "    <tr>\n",
       "      <th>vengamos</th>\n",
       "      <td>6</td>\n",
       "      <td>3969.0</td>\n",
       "      <td>23814.0</td>\n",
       "      <td>346730</td>\n",
       "      <td>0.000016</td>\n",
       "      <td>0.909539</td>\n",
       "    </tr>\n",
       "  </tbody>\n",
       "</table>\n",
       "</div>"
      ],
      "text/plain": [
       "           Frecuencia  Ranking    C=F*R  Frec. Acum.  Frec. Rel.  \\\n",
       "Termino                                                            \n",
       "estiende            6   3969.0  23814.0       346706    0.000016   \n",
       "soberbios           6   3969.0  23814.0       346712    0.000016   \n",
       "juzgue              6   3969.0  23814.0       346718    0.000016   \n",
       "seca                6   3969.0  23814.0       346724    0.000016   \n",
       "vengamos            6   3969.0  23814.0       346730    0.000016   \n",
       "\n",
       "           Frec. Rel. Acum.  \n",
       "Termino                      \n",
       "estiende           0.909476  \n",
       "soberbios          0.909492  \n",
       "juzgue             0.909508  \n",
       "seca               0.909523  \n",
       "vengamos           0.909539  "
      ]
     },
     "execution_count": 92,
     "metadata": {},
     "output_type": "execute_result"
    }
   ],
   "source": [
    "# PROPORCIÓN SEGUN ZIPF\n",
    "\n",
    "logx = np.log(df[\"Ranking\"])\n",
    "logy = np.log(df[\"Frecuencia\"])\n",
    "rectaAjuste = np.polyfit(logx, logy, 1)\n",
    "pendiente = rectaAjuste[0]\n",
    "ordenadaAlOrigen = rectaAjuste[1]\n",
    "\n",
    "frecuenciaDada = 5.0\n",
    "logFrec = np.log(frecuenciaDada)\n",
    "\n",
    "# A partir de la ecuación\n",
    "# log_frecuencia = pendiente * logx + ordenadaAlOrigen\n",
    "# se tiene log_frecuencia y se busca averiguar el valor de logx\n",
    "# por lo tanto:\n",
    "rankLog = (logFrec - ordenadaAlOrigen) / pendiente\n",
    "rank = np.exp(rankLog)\n",
    "\n",
    "df_zipf = df.loc[df[\"Ranking\"] > rank]\n",
    "df_zipf.head()"
   ]
  },
  {
   "cell_type": "code",
   "execution_count": 91,
   "metadata": {
    "collapsed": false
   },
   "outputs": [
    {
     "name": "stdout",
     "output_type": "stream",
     "text": [
      "Segun Zipf se omite el 9.05 por ciento del total de términos\n"
     ]
    }
   ],
   "source": [
    "porcentaje_omitido = (1 - df_zipf[\"Frec. Rel. Acum.\"].min()) * 100\n",
    "print \"Segun Zipf se omite el %.2f por ciento del total de términos\" % porcentaje_omitido"
   ]
  },
  {
   "cell_type": "code",
   "execution_count": 97,
   "metadata": {
    "collapsed": false
   },
   "outputs": [
    {
     "name": "stdout",
     "output_type": "stream",
     "text": [
      "Frecuencia estimada:  3.34640794496\n",
      "Frecuencia real:  4.0\n"
     ]
    }
   ],
   "source": [
    "# EXTRA - PRUEBA DE OBTENER FRECUENCIA A PARTIR DE RANKING\n",
    "# PROPORCION SEGUN ZIPF\n",
    "ranking = 5270\n",
    "rectaAjuste = np.polyfit(np.log(df[\"Ranking\"]), np.log(df[\"Frecuencia\"]), 1)\n",
    "rectaEvaluada = np.poly1d(rectaAjuste)\n",
    "\n",
    "frecuenciaEstimada = np.exp(rectaEvaluada(np.log(ranking)))\n",
    "\n",
    "print \"Frecuencia estimada: \", frecuenciaEstimada\n",
    "print \"Frecuencia real: \", df[df['Ranking'] == 5270][\"Frecuencia\"].mean()"
   ]
  }
 ],
 "metadata": {
  "kernelspec": {
   "display_name": "Python 2",
   "language": "python",
   "name": "python2"
  },
  "language_info": {
   "codemirror_mode": {
    "name": "ipython",
    "version": 2
   },
   "file_extension": ".py",
   "mimetype": "text/x-python",
   "name": "python",
   "nbconvert_exporter": "python",
   "pygments_lexer": "ipython2",
   "version": "2.7.6"
  }
 },
 "nbformat": 4,
 "nbformat_minor": 0
}
