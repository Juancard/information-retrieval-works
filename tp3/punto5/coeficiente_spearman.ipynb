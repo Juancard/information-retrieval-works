{
 "cells": [
  {
   "cell_type": "code",
   "execution_count": 1,
   "metadata": {
    "collapsed": false
   },
   "outputs": [],
   "source": [
    "import csv\n",
    "import pandas as pd\n",
    "import numpy as np\n",
    "import os"
   ]
  },
  {
   "cell_type": "code",
   "execution_count": 2,
   "metadata": {
    "collapsed": false
   },
   "outputs": [
    {
     "name": "stdout",
     "output_type": "stream",
     "text": [
      "Ingresar ruta a lista 1: /home/juan/Documentos/UNLu/taller_libre_1/2016/practica/tp2/punto7/my_retrieval/normalized_ranking.res\n",
      "Ingresar ruta a lista 2: /home/juan/Documentos/UNLu/taller_libre_1/2016/practica/tp2/punto7/terrier_retrieval/TF_IDF_0.res\n"
     ]
    }
   ],
   "source": [
    "listas = []\n",
    "for i in range(2):\n",
    "    listas.append(raw_input(\"Ingresar ruta a lista %s: \" % (i+1)))\n",
    "    if not(os.path.isfile(listas[i])):\n",
    "        print \"Path a Archivo no es válido\"\n",
    "        exit"
   ]
  },
  {
   "cell_type": "code",
   "execution_count": 3,
   "metadata": {
    "collapsed": false
   },
   "outputs": [
    {
     "data": {
      "text/html": [
       "<div>\n",
       "<table border=\"1\" class=\"dataframe\">\n",
       "  <thead>\n",
       "    <tr style=\"text-align: right;\">\n",
       "      <th></th>\n",
       "      <th></th>\n",
       "      <th>Ranking - TF_IDF</th>\n",
       "      <th>Similtud - TF_IDF</th>\n",
       "    </tr>\n",
       "    <tr>\n",
       "      <th>Id query</th>\n",
       "      <th>Id doc</th>\n",
       "      <th></th>\n",
       "      <th></th>\n",
       "    </tr>\n",
       "  </thead>\n",
       "  <tbody>\n",
       "    <tr>\n",
       "      <th rowspan=\"5\" valign=\"top\">1</th>\n",
       "      <th>122</th>\n",
       "      <td>0</td>\n",
       "      <td>2.286827</td>\n",
       "    </tr>\n",
       "    <tr>\n",
       "      <th>206</th>\n",
       "      <td>1</td>\n",
       "      <td>2.251620</td>\n",
       "    </tr>\n",
       "    <tr>\n",
       "      <th>328</th>\n",
       "      <td>2</td>\n",
       "      <td>2.235622</td>\n",
       "    </tr>\n",
       "    <tr>\n",
       "      <th>50</th>\n",
       "      <td>3</td>\n",
       "      <td>2.226903</td>\n",
       "    </tr>\n",
       "    <tr>\n",
       "      <th>171</th>\n",
       "      <td>4</td>\n",
       "      <td>2.221991</td>\n",
       "    </tr>\n",
       "  </tbody>\n",
       "</table>\n",
       "</div>"
      ],
      "text/plain": [
       "                 Ranking - TF_IDF  Similtud - TF_IDF\n",
       "Id query Id doc                                     \n",
       "1        122                    0           2.286827\n",
       "         206                    1           2.251620\n",
       "         328                    2           2.235622\n",
       "         50                     3           2.226903\n",
       "         171                    4           2.221991"
      ]
     },
     "execution_count": 3,
     "metadata": {},
     "output_type": "execute_result"
    }
   ],
   "source": [
    "data = []\n",
    "for i in range(2):\n",
    "    data.append(pd.read_csv(listas[i], sep=\" \", header = None, names=[\"Id query\", \"Q\", \"Id doc\", \"Ranking\", \"Similtud\", \"Modelo\"], index_col=[\"Id query\",\"Id doc\"]))\n",
    "    modelo = data[i]['Modelo'].iloc[0]\n",
    "    data[i].drop(['Q','Modelo'], axis=1, inplace=True)\n",
    "    data[i].columns = [\"Ranking - \"+modelo, \"Similtud - \"+modelo]\n",
    "data[1].head()"
   ]
  },
  {
   "cell_type": "code",
   "execution_count": null,
   "metadata": {
    "collapsed": true
   },
   "outputs": [],
   "source": []
  },
  {
   "cell_type": "code",
   "execution_count": null,
   "metadata": {
    "collapsed": false
   },
   "outputs": [],
   "source": []
  },
  {
   "cell_type": "code",
   "execution_count": 4,
   "metadata": {
    "collapsed": false
   },
   "outputs": [
    {
     "data": {
      "text/html": [
       "<div>\n",
       "<table border=\"1\" class=\"dataframe\">\n",
       "  <thead>\n",
       "    <tr style=\"text-align: right;\">\n",
       "      <th></th>\n",
       "      <th></th>\n",
       "      <th>Ranking - JCAR_2016</th>\n",
       "      <th>Similtud - JCAR_2016</th>\n",
       "      <th>Ranking - TF_IDF</th>\n",
       "      <th>Similtud - TF_IDF</th>\n",
       "    </tr>\n",
       "    <tr>\n",
       "      <th>Id query</th>\n",
       "      <th>Id doc</th>\n",
       "      <th></th>\n",
       "      <th></th>\n",
       "      <th></th>\n",
       "      <th></th>\n",
       "    </tr>\n",
       "  </thead>\n",
       "  <tbody>\n",
       "    <tr>\n",
       "      <th rowspan=\"5\" valign=\"top\">1</th>\n",
       "      <th>206</th>\n",
       "      <td>0.0</td>\n",
       "      <td>0.017707</td>\n",
       "      <td>1.0</td>\n",
       "      <td>2.251620</td>\n",
       "    </tr>\n",
       "    <tr>\n",
       "      <th>122</th>\n",
       "      <td>1.0</td>\n",
       "      <td>0.017401</td>\n",
       "      <td>0.0</td>\n",
       "      <td>2.286827</td>\n",
       "    </tr>\n",
       "    <tr>\n",
       "      <th>576</th>\n",
       "      <td>2.0</td>\n",
       "      <td>0.013259</td>\n",
       "      <td>5.0</td>\n",
       "      <td>2.204487</td>\n",
       "    </tr>\n",
       "    <tr>\n",
       "      <th>327</th>\n",
       "      <td>3.0</td>\n",
       "      <td>0.010090</td>\n",
       "      <td>9.0</td>\n",
       "      <td>2.145982</td>\n",
       "    </tr>\n",
       "    <tr>\n",
       "      <th>587</th>\n",
       "      <td>4.0</td>\n",
       "      <td>0.009448</td>\n",
       "      <td>13.0</td>\n",
       "      <td>2.119273</td>\n",
       "    </tr>\n",
       "  </tbody>\n",
       "</table>\n",
       "</div>"
      ],
      "text/plain": [
       "                 Ranking - JCAR_2016  Similtud - JCAR_2016  Ranking - TF_IDF  \\\n",
       "Id query Id doc                                                                \n",
       "1        206                     0.0              0.017707               1.0   \n",
       "         122                     1.0              0.017401               0.0   \n",
       "         576                     2.0              0.013259               5.0   \n",
       "         327                     3.0              0.010090               9.0   \n",
       "         587                     4.0              0.009448              13.0   \n",
       "\n",
       "                 Similtud - TF_IDF  \n",
       "Id query Id doc                     \n",
       "1        206              2.251620  \n",
       "         122              2.286827  \n",
       "         576              2.204487  \n",
       "         327              2.145982  \n",
       "         587              2.119273  "
      ]
     },
     "execution_count": 4,
     "metadata": {},
     "output_type": "execute_result"
    }
   ],
   "source": [
    "df = pd.concat([data[0], data[1]],axis=1,join=\"outer\")\n",
    "\n",
    "# Ordeno por iDQUERY y luego por ranking del primero de los dos modelos\n",
    "df = df.reset_index()\n",
    "df = df.sort_values([\"Id query\",df.columns[2]])\n",
    "df = df.set_index([\"Id query\", \"Id doc\"])\n",
    "\n",
    "df.to_csv(\"resultados_queries.csv\")\n",
    "df.head()\n"
   ]
  },
  {
   "cell_type": "code",
   "execution_count": 7,
   "metadata": {
    "collapsed": false
   },
   "outputs": [
    {
     "data": {
      "text/html": [
       "<div>\n",
       "<table border=\"1\" class=\"dataframe\">\n",
       "  <thead>\n",
       "    <tr style=\"text-align: right;\">\n",
       "      <th></th>\n",
       "      <th></th>\n",
       "      <th>Ranking - JCAR_2016</th>\n",
       "      <th>Ranking - TF_IDF</th>\n",
       "    </tr>\n",
       "    <tr>\n",
       "      <th>Id query</th>\n",
       "      <th>Id doc</th>\n",
       "      <th></th>\n",
       "      <th></th>\n",
       "    </tr>\n",
       "  </thead>\n",
       "  <tbody>\n",
       "    <tr>\n",
       "      <th rowspan=\"15\" valign=\"top\">1</th>\n",
       "      <th>206</th>\n",
       "      <td>0.0</td>\n",
       "      <td>1.0</td>\n",
       "    </tr>\n",
       "    <tr>\n",
       "      <th>122</th>\n",
       "      <td>1.0</td>\n",
       "      <td>0.0</td>\n",
       "    </tr>\n",
       "    <tr>\n",
       "      <th>576</th>\n",
       "      <td>2.0</td>\n",
       "      <td>5.0</td>\n",
       "    </tr>\n",
       "    <tr>\n",
       "      <th>327</th>\n",
       "      <td>3.0</td>\n",
       "      <td>9.0</td>\n",
       "    </tr>\n",
       "    <tr>\n",
       "      <th>587</th>\n",
       "      <td>4.0</td>\n",
       "      <td>13.0</td>\n",
       "    </tr>\n",
       "    <tr>\n",
       "      <th>393</th>\n",
       "      <td>5.0</td>\n",
       "      <td>35.0</td>\n",
       "    </tr>\n",
       "    <tr>\n",
       "      <th>413</th>\n",
       "      <td>6.0</td>\n",
       "      <td>6.0</td>\n",
       "    </tr>\n",
       "    <tr>\n",
       "      <th>284</th>\n",
       "      <td>7.0</td>\n",
       "      <td>50.0</td>\n",
       "    </tr>\n",
       "    <tr>\n",
       "      <th>328</th>\n",
       "      <td>8.0</td>\n",
       "      <td>2.0</td>\n",
       "    </tr>\n",
       "    <tr>\n",
       "      <th>405</th>\n",
       "      <td>9.0</td>\n",
       "      <td>11.0</td>\n",
       "    </tr>\n",
       "    <tr>\n",
       "      <th>50</th>\n",
       "      <td>10.0</td>\n",
       "      <td>3.0</td>\n",
       "    </tr>\n",
       "    <tr>\n",
       "      <th>504</th>\n",
       "      <td>11.0</td>\n",
       "      <td>56.0</td>\n",
       "    </tr>\n",
       "    <tr>\n",
       "      <th>171</th>\n",
       "      <td>12.0</td>\n",
       "      <td>4.0</td>\n",
       "    </tr>\n",
       "    <tr>\n",
       "      <th>569</th>\n",
       "      <td>13.0</td>\n",
       "      <td>36.0</td>\n",
       "    </tr>\n",
       "    <tr>\n",
       "      <th>106</th>\n",
       "      <td>14.0</td>\n",
       "      <td>46.0</td>\n",
       "    </tr>\n",
       "  </tbody>\n",
       "</table>\n",
       "</div>"
      ],
      "text/plain": [
       "                 Ranking - JCAR_2016  Ranking - TF_IDF\n",
       "Id query Id doc                                       \n",
       "1        206                     0.0               1.0\n",
       "         122                     1.0               0.0\n",
       "         576                     2.0               5.0\n",
       "         327                     3.0               9.0\n",
       "         587                     4.0              13.0\n",
       "         393                     5.0              35.0\n",
       "         413                     6.0               6.0\n",
       "         284                     7.0              50.0\n",
       "         328                     8.0               2.0\n",
       "         405                     9.0              11.0\n",
       "         50                     10.0               3.0\n",
       "         504                    11.0              56.0\n",
       "         171                    12.0               4.0\n",
       "         569                    13.0              36.0\n",
       "         106                    14.0              46.0"
      ]
     },
     "execution_count": 7,
     "metadata": {},
     "output_type": "execute_result"
    }
   ],
   "source": [
    "# Elimino columnas que contienen valor de similtud (no me interesa para clcular spearman)\n",
    "spearman = df.drop(df.columns[[1,3]], axis=1)\n",
    "spearman.head(15)"
   ]
  },
  {
   "cell_type": "code",
   "execution_count": 46,
   "metadata": {
    "collapsed": false
   },
   "outputs": [
    {
     "data": {
      "text/plain": [
       "Ranking - JCAR_2016    0\n",
       "Ranking - TF_IDF       0\n",
       "dtype: int64"
      ]
     },
     "execution_count": 46,
     "metadata": {},
     "output_type": "execute_result"
    }
   ],
   "source": [
    "# Remuevo valores NaN (cuando un modelo devuelve un documento pero el otro no)\n",
    "fillValues = spearman.max(level=\"Id query\")+1\n",
    "spearman = spearman.fillna(value=fillValues)\n",
    "spearman.isnull().sum()"
   ]
  },
  {
   "cell_type": "code",
   "execution_count": 47,
   "metadata": {
    "collapsed": false
   },
   "outputs": [],
   "source": [
    "def coeficienteSpearman(df):\n",
    "    n = len(df)\n",
    "    df['d'] = df[df.columns[0]] - df[df.columns[1]]\n",
    "    df['d_cuadrado'] = np.power(df['d'],2)\n",
    "    sum_d_cuadrado = sum(df['d_cuadrado']) \n",
    "    resultado = 1 - ( (6.0 * sum_d_cuadrado) / (n * ( np.power(n,2.0) - 1.0 ) ) )\n",
    "    # WARNING: NO ANDA BIEN\n",
    "    #if n > 20:\n",
    "    #    resultado = resultado / np.sqrt( (1.0 - np.power( resultado,2.0 )) / (n - 2.0) )\n",
    "    return resultado \n"
   ]
  },
  {
   "cell_type": "code",
   "execution_count": 48,
   "metadata": {
    "collapsed": false
   },
   "outputs": [
    {
     "name": "stderr",
     "output_type": "stream",
     "text": [
      "/usr/local/lib/python2.7/dist-packages/ipykernel/__main__.py:3: SettingWithCopyWarning: \n",
      "A value is trying to be set on a copy of a slice from a DataFrame.\n",
      "Try using .loc[row_indexer,col_indexer] = value instead\n",
      "\n",
      "See the caveats in the documentation: http://pandas.pydata.org/pandas-docs/stable/indexing.html#indexing-view-versus-copy\n",
      "  app.launch_new_instance()\n",
      "/usr/local/lib/python2.7/dist-packages/ipykernel/__main__.py:4: SettingWithCopyWarning: \n",
      "A value is trying to be set on a copy of a slice from a DataFrame.\n",
      "Try using .loc[row_indexer,col_indexer] = value instead\n",
      "\n",
      "See the caveats in the documentation: http://pandas.pydata.org/pandas-docs/stable/indexing.html#indexing-view-versus-copy\n"
     ]
    },
    {
     "data": {
      "text/html": [
       "<div>\n",
       "<table border=\"1\" class=\"dataframe\">\n",
       "  <thead>\n",
       "    <tr style=\"text-align: right;\">\n",
       "      <th></th>\n",
       "      <th>Coeficiente (n=10)</th>\n",
       "      <th>Coeficiente (n=25)</th>\n",
       "      <th>Coeficiente (n=50)</th>\n",
       "    </tr>\n",
       "    <tr>\n",
       "      <th>Id query</th>\n",
       "      <th></th>\n",
       "      <th></th>\n",
       "      <th></th>\n",
       "    </tr>\n",
       "  </thead>\n",
       "  <tbody>\n",
       "    <tr>\n",
       "      <th>1</th>\n",
       "      <td>-16.678788</td>\n",
       "      <td>-2.682692</td>\n",
       "      <td>-0.333445</td>\n",
       "    </tr>\n",
       "    <tr>\n",
       "      <th>2</th>\n",
       "      <td>-943.866667</td>\n",
       "      <td>-170.877692</td>\n",
       "      <td>-55.511020</td>\n",
       "    </tr>\n",
       "    <tr>\n",
       "      <th>3</th>\n",
       "      <td>-754.806061</td>\n",
       "      <td>-70.694615</td>\n",
       "      <td>-17.436735</td>\n",
       "    </tr>\n",
       "    <tr>\n",
       "      <th>4</th>\n",
       "      <td>-28.181818</td>\n",
       "      <td>-1.592308</td>\n",
       "      <td>0.565102</td>\n",
       "    </tr>\n",
       "    <tr>\n",
       "      <th>5</th>\n",
       "      <td>1.000000</td>\n",
       "      <td>1.000000</td>\n",
       "      <td>1.000000</td>\n",
       "    </tr>\n",
       "  </tbody>\n",
       "</table>\n",
       "</div>"
      ],
      "text/plain": [
       "          Coeficiente (n=10)  Coeficiente (n=25)  Coeficiente (n=50)\n",
       "Id query                                                            \n",
       "1                 -16.678788           -2.682692           -0.333445\n",
       "2                -943.866667         -170.877692          -55.511020\n",
       "3                -754.806061          -70.694615          -17.436735\n",
       "4                 -28.181818           -1.592308            0.565102\n",
       "5                   1.000000            1.000000            1.000000"
      ]
     },
     "execution_count": 48,
     "metadata": {},
     "output_type": "execute_result"
    }
   ],
   "source": [
    "# Creo el data frame resultado en donde muestro el coeficiente obtenido para cada query\n",
    "spearman = spearman.reset_index()\n",
    "df = pd.DataFrame(index=np.arange(min(spearman['Id query']), max(spearman['Id query'])+1), columns=['Coeficiente (n=10)', 'Coeficiente (n=25)', 'Coeficiente (n=50)'], dtype = 'float64')\n",
    "df.index.name = \"Id query\"\n",
    "\n",
    "# A cada index le doy su coeficiente para los primeros 'n' resultados\n",
    "for i in df.index:\n",
    "    \n",
    "    # creo dataframe 'query' con los datos del query con id 'i'\n",
    "    query = spearman[spearman['Id query'] == i]\n",
    "    query = query.drop(\"Id query\", axis=1)\n",
    "    query = query.set_index([\"Id doc\"])\n",
    "    # Calculo coeficiente\n",
    "    df.loc[i,\"Coeficiente (n=10)\"] = coeficienteSpearman(query.head(n=10)) \n",
    "    df.loc[i,\"Coeficiente (n=25)\"] = coeficienteSpearman(query.head(n=25)) \n",
    "    df.loc[i,\"Coeficiente (n=50)\"] = coeficienteSpearman(query.head(n=50)) \n",
    "    \n",
    "# Restauro index \n",
    "spearman = spearman.set_index([\"Id query\", \"Id doc\"])\n",
    "\n",
    "df.head()"
   ]
  },
  {
   "cell_type": "code",
   "execution_count": 49,
   "metadata": {
    "collapsed": false
   },
   "outputs": [],
   "source": [
    "df.to_csv(\"coeficiente_spearman.csv\")"
   ]
  },
  {
   "cell_type": "code",
   "execution_count": null,
   "metadata": {
    "collapsed": true
   },
   "outputs": [],
   "source": []
  },
  {
   "cell_type": "code",
   "execution_count": null,
   "metadata": {
    "collapsed": true
   },
   "outputs": [],
   "source": []
  }
 ],
 "metadata": {
  "kernelspec": {
   "display_name": "Python 2",
   "language": "python",
   "name": "python2"
  },
  "language_info": {
   "codemirror_mode": {
    "name": "ipython",
    "version": 2
   },
   "file_extension": ".py",
   "mimetype": "text/x-python",
   "name": "python",
   "nbconvert_exporter": "python",
   "pygments_lexer": "ipython2",
   "version": "2.7.6"
  }
 },
 "nbformat": 4,
 "nbformat_minor": 0
}
