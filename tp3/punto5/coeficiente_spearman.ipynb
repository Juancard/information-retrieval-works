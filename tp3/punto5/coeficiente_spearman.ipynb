{
 "cells": [
  {
   "cell_type": "code",
   "execution_count": 1,
   "metadata": {
    "collapsed": false
   },
   "outputs": [],
   "source": [
    "import csv\n",
    "import pandas as pd\n",
    "import numpy as np\n",
    "import os\n",
    "from collections import OrderedDict"
   ]
  },
  {
   "cell_type": "code",
   "execution_count": 2,
   "metadata": {
    "collapsed": false
   },
   "outputs": [
    {
     "name": "stdout",
     "output_type": "stream",
     "text": [
      "Ingresar ruta a lista 1: /home/juan/Documentos/UNLu/taller_libre_1/2016/practica/tp3/punto5/retrieval/tf_idf/TF_IDF_0.res\n",
      "Ingresar ruta a lista 2: /home/juan/Documentos/UNLu/taller_libre_1/2016/practica/tp3/punto5/retrieval/bm25/BM25b0.75_1.res\n"
     ]
    }
   ],
   "source": [
    "listasPath = []\n",
    "for i in range(2):\n",
    "    listasPath.append(raw_input(\"Ingresar ruta a lista %s: \" % (i+1)))\n",
    "    if not(os.path.isfile(listasPath[i])):\n",
    "        print \"Path a Archivo no es válido\"\n",
    "        exit"
   ]
  },
  {
   "cell_type": "code",
   "execution_count": 3,
   "metadata": {
    "collapsed": false
   },
   "outputs": [
    {
     "data": {
      "text/html": [
       "<div>\n",
       "<table border=\"1\" class=\"dataframe\">\n",
       "  <thead>\n",
       "    <tr style=\"text-align: right;\">\n",
       "      <th></th>\n",
       "      <th></th>\n",
       "      <th>Ranking - BM25b0.75</th>\n",
       "    </tr>\n",
       "    <tr>\n",
       "      <th>Id query</th>\n",
       "      <th>Id doc</th>\n",
       "      <th></th>\n",
       "    </tr>\n",
       "  </thead>\n",
       "  <tbody>\n",
       "    <tr>\n",
       "      <th rowspan=\"3\" valign=\"top\">4</th>\n",
       "      <th>111</th>\n",
       "      <td>46</td>\n",
       "    </tr>\n",
       "    <tr>\n",
       "      <th>256</th>\n",
       "      <td>47</td>\n",
       "    </tr>\n",
       "    <tr>\n",
       "      <th>54</th>\n",
       "      <td>48</td>\n",
       "    </tr>\n",
       "    <tr>\n",
       "      <th rowspan=\"2\" valign=\"top\">5</th>\n",
       "      <th>374</th>\n",
       "      <td>0</td>\n",
       "    </tr>\n",
       "    <tr>\n",
       "      <th>308</th>\n",
       "      <td>1</td>\n",
       "    </tr>\n",
       "  </tbody>\n",
       "</table>\n",
       "</div>"
      ],
      "text/plain": [
       "                 Ranking - BM25b0.75\n",
       "Id query Id doc                     \n",
       "4        111                      46\n",
       "         256                      47\n",
       "         54                       48\n",
       "5        374                       0\n",
       "         308                       1"
      ]
     },
     "execution_count": 3,
     "metadata": {},
     "output_type": "execute_result"
    }
   ],
   "source": [
    "lista = []\n",
    "for i in range(2):\n",
    "    lista.append(pd.read_csv(listasPath[i], sep=\" \", header = None, names=[\"Id query\", \"Q\", \"Id doc\", \"Ranking\", \"Similtud\", \"Modelo\"], index_col=[\"Id query\",\"Id doc\"]))\n",
    "    modelo = lista[i]['Modelo'].iloc[0]\n",
    "    lista[i].drop(['Q','Modelo', \"Similtud\"], axis=1, inplace=True)\n",
    "    lista[i].columns = [\"Ranking - \"+modelo]\n",
    "lista[1].tail()"
   ]
  },
  {
   "cell_type": "code",
   "execution_count": 4,
   "metadata": {
    "collapsed": false
   },
   "outputs": [],
   "source": [
    "def sp(a):\n",
    "    CONSTANTE = 6.0 #  valor que se multiplica por sumatoria del cuadrado de las diferencias\n",
    "    N = len(a) - 1.0 # posicion maxima del ranking\n",
    "    \n",
    "    diferencia = a[a.columns[2]] - a[a.columns[3]]\n",
    "    diferenciaCuadrado = np.power(diferencia, 2.0)\n",
    "    sumDifCuad = sum(diferenciaCuadrado)\n",
    "    dividendo = sumDifCuad * CONSTANTE\n",
    "    divisor = N * (np.power(N, 2.0) - 1.0)\n",
    "\n",
    "    if divisor == 0 or dividendo == 0:\n",
    "        cs = 1\n",
    "    else:\n",
    "        cs = 1 - (dividendo / divisor) \n",
    "    \n",
    "    return cs\n"
   ]
  },
  {
   "cell_type": "code",
   "execution_count": 5,
   "metadata": {
    "collapsed": true
   },
   "outputs": [],
   "source": [
    "def getTopN(df, n):\n",
    "    return df.sort_values([\"Id query\",df.columns[0]]).groupby(\"Id query\").head(n)"
   ]
  },
  {
   "cell_type": "code",
   "execution_count": 6,
   "metadata": {
    "collapsed": false
   },
   "outputs": [
    {
     "name": "stdout",
     "output_type": "stream",
     "text": [
      "\n",
      "top  25\n",
      "Id query\n",
      "1    1.000000\n",
      "2    0.377340\n",
      "3    0.843419\n",
      "4    1.000000\n",
      "5    1.000000\n",
      "dtype: float64\n",
      "\n",
      "top  10\n",
      "Id query\n",
      "1    1.000000\n",
      "2    0.151648\n",
      "3    0.733333\n",
      "4    1.000000\n",
      "5    1.000000\n",
      "dtype: float64\n",
      "\n",
      "top  50\n",
      "Id query\n",
      "1    1.000000\n",
      "2    0.746697\n",
      "3    0.913482\n",
      "4    1.000000\n",
      "5    1.000000\n",
      "dtype: float64\n"
     ]
    }
   ],
   "source": [
    "tops = {\n",
    "    10: [],\n",
    "    25: [],\n",
    "    50: []\n",
    "}\n",
    "for k in tops:\n",
    "    # Obtengo top k para ambas listas\n",
    "    ranks = [getTopN(df.reset_index(), k).set_index([\"Id query\", \"Id doc\"]) for df in lista]\n",
    "    \n",
    "    # Concateno listas\n",
    "    ranksConcat = pd.concat(ranks, axis=1, join=\"outer\")\n",
    "\n",
    "    # Docs id que se encuentran en una lista y no en otra se rellenan con el rank maximo + 1\n",
    "    fillValues = ranksConcat.max(level=\"Id query\") + 1\n",
    "    ranksConcat = ranksConcat.fillna(value=fillValues)\n",
    "\n",
    "    # Calculo coeficiente de spearman\n",
    "    tops[k] = ranksConcat.reset_index().groupby([\"Id query\"]).apply(sp)\n",
    "    \n",
    "    # Muestro resultados\n",
    "    print \"\\ntop \", k\n",
    "    print tops[k]"
   ]
  },
  {
   "cell_type": "code",
   "execution_count": 7,
   "metadata": {
    "collapsed": false
   },
   "outputs": [
    {
     "data": {
      "text/html": [
       "<div>\n",
       "<table border=\"1\" class=\"dataframe\">\n",
       "  <thead>\n",
       "    <tr style=\"text-align: right;\">\n",
       "      <th></th>\n",
       "      <th>top10</th>\n",
       "      <th>top25</th>\n",
       "      <th>top50</th>\n",
       "    </tr>\n",
       "    <tr>\n",
       "      <th>Id query</th>\n",
       "      <th></th>\n",
       "      <th></th>\n",
       "      <th></th>\n",
       "    </tr>\n",
       "  </thead>\n",
       "  <tbody>\n",
       "    <tr>\n",
       "      <th>1</th>\n",
       "      <td>1.000000</td>\n",
       "      <td>1.000000</td>\n",
       "      <td>1.000000</td>\n",
       "    </tr>\n",
       "    <tr>\n",
       "      <th>2</th>\n",
       "      <td>0.151648</td>\n",
       "      <td>0.377340</td>\n",
       "      <td>0.746697</td>\n",
       "    </tr>\n",
       "    <tr>\n",
       "      <th>3</th>\n",
       "      <td>0.733333</td>\n",
       "      <td>0.843419</td>\n",
       "      <td>0.913482</td>\n",
       "    </tr>\n",
       "    <tr>\n",
       "      <th>4</th>\n",
       "      <td>1.000000</td>\n",
       "      <td>1.000000</td>\n",
       "      <td>1.000000</td>\n",
       "    </tr>\n",
       "    <tr>\n",
       "      <th>5</th>\n",
       "      <td>1.000000</td>\n",
       "      <td>1.000000</td>\n",
       "      <td>1.000000</td>\n",
       "    </tr>\n",
       "  </tbody>\n",
       "</table>\n",
       "</div>"
      ],
      "text/plain": [
       "             top10     top25     top50\n",
       "Id query                              \n",
       "1         1.000000  1.000000  1.000000\n",
       "2         0.151648  0.377340  0.746697\n",
       "3         0.733333  0.843419  0.913482\n",
       "4         1.000000  1.000000  1.000000\n",
       "5         1.000000  1.000000  1.000000"
      ]
     },
     "execution_count": 7,
     "metadata": {},
     "output_type": "execute_result"
    }
   ],
   "source": [
    "cs = pd.concat([tops[k] for k in sorted(tops)], axis=1,join=\"outer\")\n",
    "cs.columns = [\"Top %d\" % k for k in sorted(tops)]\n",
    "cs"
   ]
  },
  {
   "cell_type": "code",
   "execution_count": 8,
   "metadata": {
    "collapsed": true
   },
   "outputs": [],
   "source": [
    "cs.to_csv(\"coeficiente_spearman.csv\")"
   ]
  }
 ],
 "metadata": {
  "kernelspec": {
   "display_name": "Python 2",
   "language": "python",
   "name": "python2"
  },
  "language_info": {
   "codemirror_mode": {
    "name": "ipython",
    "version": 2
   },
   "file_extension": ".py",
   "mimetype": "text/x-python",
   "name": "python",
   "nbconvert_exporter": "python",
   "pygments_lexer": "ipython2",
   "version": "2.7.6"
  }
 },
 "nbformat": 4,
 "nbformat_minor": 0
}
