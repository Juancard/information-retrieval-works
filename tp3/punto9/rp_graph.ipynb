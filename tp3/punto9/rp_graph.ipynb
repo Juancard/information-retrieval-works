{
 "cells": [
  {
   "cell_type": "code",
   "execution_count": 1,
   "metadata": {
    "collapsed": false
   },
   "outputs": [],
   "source": [
    "import os\n",
    "import sys\n",
    "import re\n",
    "import pandas as pd\n",
    "import matplotlib.pyplot as plt"
   ]
  },
  {
   "cell_type": "code",
   "execution_count": 2,
   "metadata": {
    "collapsed": false
   },
   "outputs": [
    {
     "name": "stdout",
     "output_type": "stream",
     "text": [
      "Ingresar ruta a documento terrier eval: /home/juan/Documentos/UNLu/taller_libre_1/2016/practica/tp3/punto9/TF_IDF.eval\n"
     ]
    }
   ],
   "source": [
    "terrier_eval = raw_input(\"Ingresar ruta a documento terrier eval: \")\n",
    "if not(os.path.isfile(terrier_eval)):\n",
    "    print \"Path a Archivo no es válido\"\n",
    "    exit"
   ]
  },
  {
   "cell_type": "code",
   "execution_count": 3,
   "metadata": {
    "collapsed": false
   },
   "outputs": [],
   "source": [
    "with open(terrier_eval) as f:\n",
    "    fileList = f.readlines()"
   ]
  },
  {
   "cell_type": "code",
   "execution_count": 4,
   "metadata": {
    "collapsed": false
   },
   "outputs": [
    {
     "name": "stdout",
     "output_type": "stream",
     "text": [
      "('0', '0.6373')\n",
      "('10', '0.3882')\n",
      "('20', '0.2722')\n",
      "('30', '0.2103')\n",
      "('40', '0.1780')\n",
      "('50', '0.1534')\n",
      "('60', '0.1277')\n",
      "('70', '0.0945')\n",
      "('80', '0.0619')\n",
      "('90', '0.0375')\n",
      "('100', '0.0068')\n"
     ]
    }
   ],
   "source": [
    "pattern = re.compile(r'Precision at\\s+(\\d+)%\\:\\s+(\\d*(?:\\.)?\\d*)')\n",
    "rpList = []\n",
    "for item in fileList:\n",
    "    m = pattern.match(item)\n",
    "    if m:\n",
    "        rpList.append(m.groups())\n",
    "for par in rpList:\n",
    "    print par"
   ]
  },
  {
   "cell_type": "code",
   "execution_count": 5,
   "metadata": {
    "collapsed": false
   },
   "outputs": [
    {
     "data": {
      "text/html": [
       "<div>\n",
       "<table border=\"1\" class=\"dataframe\">\n",
       "  <thead>\n",
       "    <tr style=\"text-align: right;\">\n",
       "      <th></th>\n",
       "      <th>Precision interpolada</th>\n",
       "    </tr>\n",
       "  </thead>\n",
       "  <tbody>\n",
       "    <tr>\n",
       "      <th>0.0</th>\n",
       "      <td>0.6373</td>\n",
       "    </tr>\n",
       "    <tr>\n",
       "      <th>0.1</th>\n",
       "      <td>0.3882</td>\n",
       "    </tr>\n",
       "    <tr>\n",
       "      <th>0.2</th>\n",
       "      <td>0.2722</td>\n",
       "    </tr>\n",
       "    <tr>\n",
       "      <th>0.3</th>\n",
       "      <td>0.2103</td>\n",
       "    </tr>\n",
       "    <tr>\n",
       "      <th>0.4</th>\n",
       "      <td>0.1780</td>\n",
       "    </tr>\n",
       "    <tr>\n",
       "      <th>0.5</th>\n",
       "      <td>0.1534</td>\n",
       "    </tr>\n",
       "    <tr>\n",
       "      <th>0.6</th>\n",
       "      <td>0.1277</td>\n",
       "    </tr>\n",
       "    <tr>\n",
       "      <th>0.7</th>\n",
       "      <td>0.0945</td>\n",
       "    </tr>\n",
       "    <tr>\n",
       "      <th>0.8</th>\n",
       "      <td>0.0619</td>\n",
       "    </tr>\n",
       "    <tr>\n",
       "      <th>0.9</th>\n",
       "      <td>0.0375</td>\n",
       "    </tr>\n",
       "    <tr>\n",
       "      <th>1.0</th>\n",
       "      <td>0.0068</td>\n",
       "    </tr>\n",
       "  </tbody>\n",
       "</table>\n",
       "</div>"
      ],
      "text/plain": [
       "     Precision interpolada\n",
       "0.0                 0.6373\n",
       "0.1                 0.3882\n",
       "0.2                 0.2722\n",
       "0.3                 0.2103\n",
       "0.4                 0.1780\n",
       "0.5                 0.1534\n",
       "0.6                 0.1277\n",
       "0.7                 0.0945\n",
       "0.8                 0.0619\n",
       "0.9                 0.0375\n",
       "1.0                 0.0068"
      ]
     },
     "execution_count": 5,
     "metadata": {},
     "output_type": "execute_result"
    }
   ],
   "source": [
    "df = pd.DataFrame([par[1] for par in rpList], index = [float(par[0])/100 for par in rpList],\n",
    "                  columns = ['Precision interpolada'],\n",
    "                  dtype = 'float64')\n",
    "df"
   ]
  },
  {
   "cell_type": "code",
   "execution_count": 6,
   "metadata": {
    "collapsed": false
   },
   "outputs": [],
   "source": [
    "x = df.index\n",
    "y = df['Precision interpolada']\n",
    "\n",
    "fig = plt.Figure(figsize = (4,4), facecolor = 'W', edgecolor = 'W')\n",
    "ax = plt.subplot(111)\n",
    "\n",
    "ax.set_title(\"RP interpolada\\n\")\n",
    "ax.set_xlabel('Recall standard')\n",
    "ax.set_ylabel('Prec. interpolada')\n",
    "\n",
    "ax.plot(x, y, '-o')\n",
    "\n",
    "plt.xticks(x)\n",
    "plt.yticks(y)\n",
    "\n",
    "plt.show()"
   ]
  },
  {
   "cell_type": "code",
   "execution_count": 7,
   "metadata": {
    "collapsed": false
   },
   "outputs": [],
   "source": [
    "ax.get_figure().savefig('rp_interpolada_graph.png', bbox_inches='tight')"
   ]
  },
  {
   "cell_type": "code",
   "execution_count": null,
   "metadata": {
    "collapsed": true
   },
   "outputs": [],
   "source": []
  }
 ],
 "metadata": {
  "kernelspec": {
   "display_name": "Python 2",
   "language": "python",
   "name": "python2"
  },
  "language_info": {
   "codemirror_mode": {
    "name": "ipython",
    "version": 2
   },
   "file_extension": ".py",
   "mimetype": "text/x-python",
   "name": "python",
   "nbconvert_exporter": "python",
   "pygments_lexer": "ipython2",
   "version": "2.7.6"
  }
 },
 "nbformat": 4,
 "nbformat_minor": 0
}
